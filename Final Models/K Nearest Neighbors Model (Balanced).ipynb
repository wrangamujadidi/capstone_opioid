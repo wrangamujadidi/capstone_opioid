{
 "cells": [
  {
   "cell_type": "code",
   "execution_count": 1,
   "metadata": {
    "collapsed": true
   },
   "outputs": [],
   "source": [
    "%matplotlib inline\n",
    "%matplotlib notebook"
   ]
  },
  {
   "cell_type": "code",
   "execution_count": 2,
   "metadata": {
    "collapsed": true
   },
   "outputs": [],
   "source": [
    "import os \n",
    "import pickle\n",
    "\n",
    "import pandas as pd\n",
    "import numpy as np\n",
    "import matplotlib.pyplot as plt\n"
   ]
  },
  {
   "cell_type": "markdown",
   "metadata": {},
   "source": [
    "# Reading In Data"
   ]
  },
  {
   "cell_type": "code",
   "execution_count": 3,
   "metadata": {
    "collapsed": false
   },
   "outputs": [
    {
     "data": {
      "text/plain": [
       "'/Users/wrangamujadidi/Desktop/Capstone/capstone_opioid/Data/Sample_Size_1661.csv'"
      ]
     },
     "execution_count": 3,
     "metadata": {},
     "output_type": "execute_result"
    }
   ],
   "source": [
    "\n",
    "PATH = os.path.abspath(os.path.join(os.path.dirname(\".\"), \"Data\"))\n",
    "FINAL_DATA = os.path.join(PATH, \"Sample_Size_1661.csv\")\n",
    "\n",
    "FINAL_DATA"
   ]
  },
  {
   "cell_type": "code",
   "execution_count": 4,
   "metadata": {
    "collapsed": false
   },
   "outputs": [],
   "source": [
    "data = pd.read_csv(FINAL_DATA)"
   ]
  },
  {
   "cell_type": "code",
   "execution_count": 5,
   "metadata": {
    "collapsed": false
   },
   "outputs": [
    {
     "data": {
      "text/html": [
       "<div>\n",
       "<table border=\"1\" class=\"dataframe\">\n",
       "  <thead>\n",
       "    <tr style=\"text-align: right;\">\n",
       "      <th></th>\n",
       "      <th>HexagonNumber</th>\n",
       "      <th>HexandMonth</th>\n",
       "      <th>Month</th>\n",
       "      <th>Under20</th>\n",
       "      <th>20to29</th>\n",
       "      <th>30to39</th>\n",
       "      <th>40to49</th>\n",
       "      <th>50to59</th>\n",
       "      <th>60to69</th>\n",
       "      <th>70andabove</th>\n",
       "      <th>...</th>\n",
       "      <th>MiscCals</th>\n",
       "      <th>OverdoseCalls</th>\n",
       "      <th>PropertyCalls</th>\n",
       "      <th>QOLCalls</th>\n",
       "      <th>TrafficCalls</th>\n",
       "      <th>ViolentCalls</th>\n",
       "      <th>AverageTemperature</th>\n",
       "      <th>AverageHumidity</th>\n",
       "      <th>AveragePrecipitation</th>\n",
       "      <th>Unemployment</th>\n",
       "    </tr>\n",
       "  </thead>\n",
       "  <tbody>\n",
       "    <tr>\n",
       "      <th>0</th>\n",
       "      <td>32</td>\n",
       "      <td>32-1</td>\n",
       "      <td>1</td>\n",
       "      <td>0</td>\n",
       "      <td>0</td>\n",
       "      <td>1</td>\n",
       "      <td>1</td>\n",
       "      <td>0</td>\n",
       "      <td>0</td>\n",
       "      <td>0</td>\n",
       "      <td>...</td>\n",
       "      <td>21</td>\n",
       "      <td>2</td>\n",
       "      <td>23</td>\n",
       "      <td>71</td>\n",
       "      <td>47</td>\n",
       "      <td>18</td>\n",
       "      <td>37.4075</td>\n",
       "      <td>0.541429</td>\n",
       "      <td>0.00025</td>\n",
       "      <td>0.071667</td>\n",
       "    </tr>\n",
       "    <tr>\n",
       "      <th>1</th>\n",
       "      <td>33</td>\n",
       "      <td>33-1</td>\n",
       "      <td>1</td>\n",
       "      <td>0</td>\n",
       "      <td>0</td>\n",
       "      <td>0</td>\n",
       "      <td>2</td>\n",
       "      <td>0</td>\n",
       "      <td>0</td>\n",
       "      <td>0</td>\n",
       "      <td>...</td>\n",
       "      <td>30</td>\n",
       "      <td>2</td>\n",
       "      <td>23</td>\n",
       "      <td>83</td>\n",
       "      <td>35</td>\n",
       "      <td>29</td>\n",
       "      <td>37.4075</td>\n",
       "      <td>0.541429</td>\n",
       "      <td>0.00025</td>\n",
       "      <td>0.255000</td>\n",
       "    </tr>\n",
       "    <tr>\n",
       "      <th>2</th>\n",
       "      <td>35</td>\n",
       "      <td>35-1</td>\n",
       "      <td>1</td>\n",
       "      <td>0</td>\n",
       "      <td>0</td>\n",
       "      <td>0</td>\n",
       "      <td>0</td>\n",
       "      <td>0</td>\n",
       "      <td>0</td>\n",
       "      <td>0</td>\n",
       "      <td>...</td>\n",
       "      <td>0</td>\n",
       "      <td>0</td>\n",
       "      <td>0</td>\n",
       "      <td>0</td>\n",
       "      <td>0</td>\n",
       "      <td>0</td>\n",
       "      <td>37.4075</td>\n",
       "      <td>0.541429</td>\n",
       "      <td>0.00025</td>\n",
       "      <td>0.139500</td>\n",
       "    </tr>\n",
       "    <tr>\n",
       "      <th>3</th>\n",
       "      <td>36</td>\n",
       "      <td>36-1</td>\n",
       "      <td>1</td>\n",
       "      <td>0</td>\n",
       "      <td>0</td>\n",
       "      <td>0</td>\n",
       "      <td>0</td>\n",
       "      <td>0</td>\n",
       "      <td>0</td>\n",
       "      <td>0</td>\n",
       "      <td>...</td>\n",
       "      <td>3</td>\n",
       "      <td>0</td>\n",
       "      <td>3</td>\n",
       "      <td>10</td>\n",
       "      <td>4</td>\n",
       "      <td>4</td>\n",
       "      <td>37.4075</td>\n",
       "      <td>0.541429</td>\n",
       "      <td>0.00025</td>\n",
       "      <td>0.192000</td>\n",
       "    </tr>\n",
       "    <tr>\n",
       "      <th>4</th>\n",
       "      <td>43</td>\n",
       "      <td>43-1</td>\n",
       "      <td>1</td>\n",
       "      <td>0</td>\n",
       "      <td>0</td>\n",
       "      <td>0</td>\n",
       "      <td>0</td>\n",
       "      <td>0</td>\n",
       "      <td>0</td>\n",
       "      <td>1</td>\n",
       "      <td>...</td>\n",
       "      <td>25</td>\n",
       "      <td>0</td>\n",
       "      <td>40</td>\n",
       "      <td>76</td>\n",
       "      <td>44</td>\n",
       "      <td>3</td>\n",
       "      <td>37.4075</td>\n",
       "      <td>0.541429</td>\n",
       "      <td>0.00025</td>\n",
       "      <td>0.078750</td>\n",
       "    </tr>\n",
       "  </tbody>\n",
       "</table>\n",
       "<p>5 rows × 27 columns</p>\n",
       "</div>"
      ],
      "text/plain": [
       "   HexagonNumber HexandMonth  Month  Under20  20to29  30to39  40to49  50to59  \\\n",
       "0             32        32-1      1        0       0       1       1       0   \n",
       "1             33        33-1      1        0       0       0       2       0   \n",
       "2             35        35-1      1        0       0       0       0       0   \n",
       "3             36        36-1      1        0       0       0       0       0   \n",
       "4             43        43-1      1        0       0       0       0       0   \n",
       "\n",
       "   60to69  70andabove      ...       MiscCals  OverdoseCalls  PropertyCalls  \\\n",
       "0       0           0      ...             21              2             23   \n",
       "1       0           0      ...             30              2             23   \n",
       "2       0           0      ...              0              0              0   \n",
       "3       0           0      ...              3              0              3   \n",
       "4       0           1      ...             25              0             40   \n",
       "\n",
       "   QOLCalls  TrafficCalls  ViolentCalls  AverageTemperature  AverageHumidity  \\\n",
       "0        71            47            18             37.4075         0.541429   \n",
       "1        83            35            29             37.4075         0.541429   \n",
       "2         0             0             0             37.4075         0.541429   \n",
       "3        10             4             4             37.4075         0.541429   \n",
       "4        76            44             3             37.4075         0.541429   \n",
       "\n",
       "   AveragePrecipitation  Unemployment  \n",
       "0               0.00025      0.071667  \n",
       "1               0.00025      0.255000  \n",
       "2               0.00025      0.139500  \n",
       "3               0.00025      0.192000  \n",
       "4               0.00025      0.078750  \n",
       "\n",
       "[5 rows x 27 columns]"
      ]
     },
     "execution_count": 5,
     "metadata": {},
     "output_type": "execute_result"
    }
   ],
   "source": [
    "data.head()"
   ]
  },
  {
   "cell_type": "code",
   "execution_count": 6,
   "metadata": {
    "collapsed": false
   },
   "outputs": [
    {
     "data": {
      "text/html": [
       "<div>\n",
       "<table border=\"1\" class=\"dataframe\">\n",
       "  <thead>\n",
       "    <tr style=\"text-align: right;\">\n",
       "      <th></th>\n",
       "      <th>HexagonNumber</th>\n",
       "      <th>Month</th>\n",
       "      <th>Under20</th>\n",
       "      <th>20to29</th>\n",
       "      <th>30to39</th>\n",
       "      <th>40to49</th>\n",
       "      <th>50to59</th>\n",
       "      <th>60to69</th>\n",
       "      <th>70andabove</th>\n",
       "      <th>TotalNarcan</th>\n",
       "      <th>...</th>\n",
       "      <th>MiscCals</th>\n",
       "      <th>OverdoseCalls</th>\n",
       "      <th>PropertyCalls</th>\n",
       "      <th>QOLCalls</th>\n",
       "      <th>TrafficCalls</th>\n",
       "      <th>ViolentCalls</th>\n",
       "      <th>AverageTemperature</th>\n",
       "      <th>AverageHumidity</th>\n",
       "      <th>AveragePrecipitation</th>\n",
       "      <th>Unemployment</th>\n",
       "    </tr>\n",
       "  </thead>\n",
       "  <tbody>\n",
       "    <tr>\n",
       "      <th>count</th>\n",
       "      <td>3322.000000</td>\n",
       "      <td>3322.000000</td>\n",
       "      <td>3322.000000</td>\n",
       "      <td>3322.000000</td>\n",
       "      <td>3322.000000</td>\n",
       "      <td>3322.000000</td>\n",
       "      <td>3322.000000</td>\n",
       "      <td>3322.000000</td>\n",
       "      <td>3322.000000</td>\n",
       "      <td>3322.000000</td>\n",
       "      <td>...</td>\n",
       "      <td>3322.000000</td>\n",
       "      <td>3322.000000</td>\n",
       "      <td>3322.000000</td>\n",
       "      <td>3322.000000</td>\n",
       "      <td>3322.000000</td>\n",
       "      <td>3322.000000</td>\n",
       "      <td>3322.000000</td>\n",
       "      <td>3322.000000</td>\n",
       "      <td>3322.000000</td>\n",
       "      <td>3322.000000</td>\n",
       "    </tr>\n",
       "    <tr>\n",
       "      <th>mean</th>\n",
       "      <td>368.743829</td>\n",
       "      <td>6.570138</td>\n",
       "      <td>0.045154</td>\n",
       "      <td>0.063817</td>\n",
       "      <td>0.145695</td>\n",
       "      <td>0.137869</td>\n",
       "      <td>0.299217</td>\n",
       "      <td>0.183022</td>\n",
       "      <td>0.037327</td>\n",
       "      <td>0.912101</td>\n",
       "      <td>...</td>\n",
       "      <td>17.806442</td>\n",
       "      <td>0.814570</td>\n",
       "      <td>11.678206</td>\n",
       "      <td>41.313666</td>\n",
       "      <td>22.822697</td>\n",
       "      <td>7.968092</td>\n",
       "      <td>64.448655</td>\n",
       "      <td>0.567246</td>\n",
       "      <td>0.002678</td>\n",
       "      <td>0.106817</td>\n",
       "    </tr>\n",
       "    <tr>\n",
       "      <th>std</th>\n",
       "      <td>196.305659</td>\n",
       "      <td>3.407581</td>\n",
       "      <td>0.224398</td>\n",
       "      <td>0.288529</td>\n",
       "      <td>0.410449</td>\n",
       "      <td>0.413873</td>\n",
       "      <td>0.640070</td>\n",
       "      <td>0.514389</td>\n",
       "      <td>0.200400</td>\n",
       "      <td>1.327486</td>\n",
       "      <td>...</td>\n",
       "      <td>35.570409</td>\n",
       "      <td>1.859712</td>\n",
       "      <td>14.849998</td>\n",
       "      <td>56.737941</td>\n",
       "      <td>30.282254</td>\n",
       "      <td>13.015783</td>\n",
       "      <td>14.909897</td>\n",
       "      <td>0.057652</td>\n",
       "      <td>0.002781</td>\n",
       "      <td>0.087368</td>\n",
       "    </tr>\n",
       "    <tr>\n",
       "      <th>min</th>\n",
       "      <td>18.000000</td>\n",
       "      <td>1.000000</td>\n",
       "      <td>0.000000</td>\n",
       "      <td>0.000000</td>\n",
       "      <td>0.000000</td>\n",
       "      <td>0.000000</td>\n",
       "      <td>0.000000</td>\n",
       "      <td>0.000000</td>\n",
       "      <td>0.000000</td>\n",
       "      <td>0.000000</td>\n",
       "      <td>...</td>\n",
       "      <td>0.000000</td>\n",
       "      <td>0.000000</td>\n",
       "      <td>0.000000</td>\n",
       "      <td>0.000000</td>\n",
       "      <td>0.000000</td>\n",
       "      <td>0.000000</td>\n",
       "      <td>37.407500</td>\n",
       "      <td>0.458571</td>\n",
       "      <td>0.000000</td>\n",
       "      <td>0.000000</td>\n",
       "    </tr>\n",
       "    <tr>\n",
       "      <th>25%</th>\n",
       "      <td>212.000000</td>\n",
       "      <td>4.000000</td>\n",
       "      <td>0.000000</td>\n",
       "      <td>0.000000</td>\n",
       "      <td>0.000000</td>\n",
       "      <td>0.000000</td>\n",
       "      <td>0.000000</td>\n",
       "      <td>0.000000</td>\n",
       "      <td>0.000000</td>\n",
       "      <td>0.000000</td>\n",
       "      <td>...</td>\n",
       "      <td>0.000000</td>\n",
       "      <td>0.000000</td>\n",
       "      <td>0.000000</td>\n",
       "      <td>1.000000</td>\n",
       "      <td>1.000000</td>\n",
       "      <td>0.000000</td>\n",
       "      <td>54.687857</td>\n",
       "      <td>0.531071</td>\n",
       "      <td>0.000250</td>\n",
       "      <td>0.035500</td>\n",
       "    </tr>\n",
       "    <tr>\n",
       "      <th>50%</th>\n",
       "      <td>350.500000</td>\n",
       "      <td>7.000000</td>\n",
       "      <td>0.000000</td>\n",
       "      <td>0.000000</td>\n",
       "      <td>0.000000</td>\n",
       "      <td>0.000000</td>\n",
       "      <td>0.000000</td>\n",
       "      <td>0.000000</td>\n",
       "      <td>0.000000</td>\n",
       "      <td>0.500000</td>\n",
       "      <td>...</td>\n",
       "      <td>6.000000</td>\n",
       "      <td>0.000000</td>\n",
       "      <td>7.000000</td>\n",
       "      <td>18.000000</td>\n",
       "      <td>11.000000</td>\n",
       "      <td>2.000000</td>\n",
       "      <td>63.496429</td>\n",
       "      <td>0.570714</td>\n",
       "      <td>0.001136</td>\n",
       "      <td>0.085750</td>\n",
       "    </tr>\n",
       "    <tr>\n",
       "      <th>75%</th>\n",
       "      <td>517.000000</td>\n",
       "      <td>9.000000</td>\n",
       "      <td>0.000000</td>\n",
       "      <td>0.000000</td>\n",
       "      <td>0.000000</td>\n",
       "      <td>0.000000</td>\n",
       "      <td>0.000000</td>\n",
       "      <td>0.000000</td>\n",
       "      <td>0.000000</td>\n",
       "      <td>1.000000</td>\n",
       "      <td>...</td>\n",
       "      <td>23.000000</td>\n",
       "      <td>1.000000</td>\n",
       "      <td>17.000000</td>\n",
       "      <td>60.000000</td>\n",
       "      <td>34.000000</td>\n",
       "      <td>11.000000</td>\n",
       "      <td>78.354286</td>\n",
       "      <td>0.586429</td>\n",
       "      <td>0.005382</td>\n",
       "      <td>0.165000</td>\n",
       "    </tr>\n",
       "    <tr>\n",
       "      <th>max</th>\n",
       "      <td>780.000000</td>\n",
       "      <td>12.000000</td>\n",
       "      <td>3.000000</td>\n",
       "      <td>4.000000</td>\n",
       "      <td>6.000000</td>\n",
       "      <td>4.000000</td>\n",
       "      <td>6.000000</td>\n",
       "      <td>6.000000</td>\n",
       "      <td>3.000000</td>\n",
       "      <td>11.000000</td>\n",
       "      <td>...</td>\n",
       "      <td>448.000000</td>\n",
       "      <td>24.000000</td>\n",
       "      <td>122.000000</td>\n",
       "      <td>467.000000</td>\n",
       "      <td>247.000000</td>\n",
       "      <td>115.000000</td>\n",
       "      <td>84.563929</td>\n",
       "      <td>0.676786</td>\n",
       "      <td>0.007686</td>\n",
       "      <td>0.542000</td>\n",
       "    </tr>\n",
       "  </tbody>\n",
       "</table>\n",
       "<p>8 rows × 26 columns</p>\n",
       "</div>"
      ],
      "text/plain": [
       "       HexagonNumber        Month      Under20       20to29       30to39  \\\n",
       "count    3322.000000  3322.000000  3322.000000  3322.000000  3322.000000   \n",
       "mean      368.743829     6.570138     0.045154     0.063817     0.145695   \n",
       "std       196.305659     3.407581     0.224398     0.288529     0.410449   \n",
       "min        18.000000     1.000000     0.000000     0.000000     0.000000   \n",
       "25%       212.000000     4.000000     0.000000     0.000000     0.000000   \n",
       "50%       350.500000     7.000000     0.000000     0.000000     0.000000   \n",
       "75%       517.000000     9.000000     0.000000     0.000000     0.000000   \n",
       "max       780.000000    12.000000     3.000000     4.000000     6.000000   \n",
       "\n",
       "            40to49       50to59       60to69   70andabove  TotalNarcan  \\\n",
       "count  3322.000000  3322.000000  3322.000000  3322.000000  3322.000000   \n",
       "mean      0.137869     0.299217     0.183022     0.037327     0.912101   \n",
       "std       0.413873     0.640070     0.514389     0.200400     1.327486   \n",
       "min       0.000000     0.000000     0.000000     0.000000     0.000000   \n",
       "25%       0.000000     0.000000     0.000000     0.000000     0.000000   \n",
       "50%       0.000000     0.000000     0.000000     0.000000     0.500000   \n",
       "75%       0.000000     0.000000     0.000000     0.000000     1.000000   \n",
       "max       4.000000     6.000000     6.000000     3.000000    11.000000   \n",
       "\n",
       "           ...          MiscCals  OverdoseCalls  PropertyCalls     QOLCalls  \\\n",
       "count      ...       3322.000000    3322.000000    3322.000000  3322.000000   \n",
       "mean       ...         17.806442       0.814570      11.678206    41.313666   \n",
       "std        ...         35.570409       1.859712      14.849998    56.737941   \n",
       "min        ...          0.000000       0.000000       0.000000     0.000000   \n",
       "25%        ...          0.000000       0.000000       0.000000     1.000000   \n",
       "50%        ...          6.000000       0.000000       7.000000    18.000000   \n",
       "75%        ...         23.000000       1.000000      17.000000    60.000000   \n",
       "max        ...        448.000000      24.000000     122.000000   467.000000   \n",
       "\n",
       "       TrafficCalls  ViolentCalls  AverageTemperature  AverageHumidity  \\\n",
       "count   3322.000000   3322.000000         3322.000000      3322.000000   \n",
       "mean      22.822697      7.968092           64.448655         0.567246   \n",
       "std       30.282254     13.015783           14.909897         0.057652   \n",
       "min        0.000000      0.000000           37.407500         0.458571   \n",
       "25%        1.000000      0.000000           54.687857         0.531071   \n",
       "50%       11.000000      2.000000           63.496429         0.570714   \n",
       "75%       34.000000     11.000000           78.354286         0.586429   \n",
       "max      247.000000    115.000000           84.563929         0.676786   \n",
       "\n",
       "       AveragePrecipitation  Unemployment  \n",
       "count           3322.000000   3322.000000  \n",
       "mean               0.002678      0.106817  \n",
       "std                0.002781      0.087368  \n",
       "min                0.000000      0.000000  \n",
       "25%                0.000250      0.035500  \n",
       "50%                0.001136      0.085750  \n",
       "75%                0.005382      0.165000  \n",
       "max                0.007686      0.542000  \n",
       "\n",
       "[8 rows x 26 columns]"
      ]
     },
     "execution_count": 6,
     "metadata": {},
     "output_type": "execute_result"
    }
   ],
   "source": [
    "data.describe()"
   ]
  },
  {
   "cell_type": "code",
   "execution_count": 7,
   "metadata": {
    "collapsed": true
   },
   "outputs": [],
   "source": [
    "#Drop the columns for HexandMonth and TotalNarcan.  HEXandMonth is not needed and TotalNarcan may cause bias because\n",
    "#the Narcan Administered already accounts for the TotalNarcan for the month. \n",
    "\n",
    "data = data.drop(['HexandMonth'], axis=1)\n",
    "data = data.drop(['TotalNarcan'], axis=1)"
   ]
  },
  {
   "cell_type": "code",
   "execution_count": 8,
   "metadata": {
    "collapsed": false
   },
   "outputs": [
    {
     "data": {
      "text/html": [
       "<div>\n",
       "<table border=\"1\" class=\"dataframe\">\n",
       "  <thead>\n",
       "    <tr style=\"text-align: right;\">\n",
       "      <th></th>\n",
       "      <th>HexagonNumber</th>\n",
       "      <th>Month</th>\n",
       "      <th>Under20</th>\n",
       "      <th>20to29</th>\n",
       "      <th>30to39</th>\n",
       "      <th>40to49</th>\n",
       "      <th>50to59</th>\n",
       "      <th>60to69</th>\n",
       "      <th>70andabove</th>\n",
       "      <th>NarcanAdministered</th>\n",
       "      <th>...</th>\n",
       "      <th>MiscCals</th>\n",
       "      <th>OverdoseCalls</th>\n",
       "      <th>PropertyCalls</th>\n",
       "      <th>QOLCalls</th>\n",
       "      <th>TrafficCalls</th>\n",
       "      <th>ViolentCalls</th>\n",
       "      <th>AverageTemperature</th>\n",
       "      <th>AverageHumidity</th>\n",
       "      <th>AveragePrecipitation</th>\n",
       "      <th>Unemployment</th>\n",
       "    </tr>\n",
       "  </thead>\n",
       "  <tbody>\n",
       "    <tr>\n",
       "      <th>0</th>\n",
       "      <td>32</td>\n",
       "      <td>1</td>\n",
       "      <td>0</td>\n",
       "      <td>0</td>\n",
       "      <td>1</td>\n",
       "      <td>1</td>\n",
       "      <td>0</td>\n",
       "      <td>0</td>\n",
       "      <td>0</td>\n",
       "      <td>1</td>\n",
       "      <td>...</td>\n",
       "      <td>21</td>\n",
       "      <td>2</td>\n",
       "      <td>23</td>\n",
       "      <td>71</td>\n",
       "      <td>47</td>\n",
       "      <td>18</td>\n",
       "      <td>37.4075</td>\n",
       "      <td>0.541429</td>\n",
       "      <td>0.00025</td>\n",
       "      <td>0.071667</td>\n",
       "    </tr>\n",
       "    <tr>\n",
       "      <th>1</th>\n",
       "      <td>33</td>\n",
       "      <td>1</td>\n",
       "      <td>0</td>\n",
       "      <td>0</td>\n",
       "      <td>0</td>\n",
       "      <td>2</td>\n",
       "      <td>0</td>\n",
       "      <td>0</td>\n",
       "      <td>0</td>\n",
       "      <td>1</td>\n",
       "      <td>...</td>\n",
       "      <td>30</td>\n",
       "      <td>2</td>\n",
       "      <td>23</td>\n",
       "      <td>83</td>\n",
       "      <td>35</td>\n",
       "      <td>29</td>\n",
       "      <td>37.4075</td>\n",
       "      <td>0.541429</td>\n",
       "      <td>0.00025</td>\n",
       "      <td>0.255000</td>\n",
       "    </tr>\n",
       "    <tr>\n",
       "      <th>2</th>\n",
       "      <td>35</td>\n",
       "      <td>1</td>\n",
       "      <td>0</td>\n",
       "      <td>0</td>\n",
       "      <td>0</td>\n",
       "      <td>0</td>\n",
       "      <td>0</td>\n",
       "      <td>0</td>\n",
       "      <td>0</td>\n",
       "      <td>0</td>\n",
       "      <td>...</td>\n",
       "      <td>0</td>\n",
       "      <td>0</td>\n",
       "      <td>0</td>\n",
       "      <td>0</td>\n",
       "      <td>0</td>\n",
       "      <td>0</td>\n",
       "      <td>37.4075</td>\n",
       "      <td>0.541429</td>\n",
       "      <td>0.00025</td>\n",
       "      <td>0.139500</td>\n",
       "    </tr>\n",
       "    <tr>\n",
       "      <th>3</th>\n",
       "      <td>36</td>\n",
       "      <td>1</td>\n",
       "      <td>0</td>\n",
       "      <td>0</td>\n",
       "      <td>0</td>\n",
       "      <td>0</td>\n",
       "      <td>0</td>\n",
       "      <td>0</td>\n",
       "      <td>0</td>\n",
       "      <td>0</td>\n",
       "      <td>...</td>\n",
       "      <td>3</td>\n",
       "      <td>0</td>\n",
       "      <td>3</td>\n",
       "      <td>10</td>\n",
       "      <td>4</td>\n",
       "      <td>4</td>\n",
       "      <td>37.4075</td>\n",
       "      <td>0.541429</td>\n",
       "      <td>0.00025</td>\n",
       "      <td>0.192000</td>\n",
       "    </tr>\n",
       "    <tr>\n",
       "      <th>4</th>\n",
       "      <td>43</td>\n",
       "      <td>1</td>\n",
       "      <td>0</td>\n",
       "      <td>0</td>\n",
       "      <td>0</td>\n",
       "      <td>0</td>\n",
       "      <td>0</td>\n",
       "      <td>0</td>\n",
       "      <td>1</td>\n",
       "      <td>1</td>\n",
       "      <td>...</td>\n",
       "      <td>25</td>\n",
       "      <td>0</td>\n",
       "      <td>40</td>\n",
       "      <td>76</td>\n",
       "      <td>44</td>\n",
       "      <td>3</td>\n",
       "      <td>37.4075</td>\n",
       "      <td>0.541429</td>\n",
       "      <td>0.00025</td>\n",
       "      <td>0.078750</td>\n",
       "    </tr>\n",
       "  </tbody>\n",
       "</table>\n",
       "<p>5 rows × 25 columns</p>\n",
       "</div>"
      ],
      "text/plain": [
       "   HexagonNumber  Month  Under20  20to29  30to39  40to49  50to59  60to69  \\\n",
       "0             32      1        0       0       1       1       0       0   \n",
       "1             33      1        0       0       0       2       0       0   \n",
       "2             35      1        0       0       0       0       0       0   \n",
       "3             36      1        0       0       0       0       0       0   \n",
       "4             43      1        0       0       0       0       0       0   \n",
       "\n",
       "   70andabove  NarcanAdministered      ...       MiscCals  OverdoseCalls  \\\n",
       "0           0                   1      ...             21              2   \n",
       "1           0                   1      ...             30              2   \n",
       "2           0                   0      ...              0              0   \n",
       "3           0                   0      ...              3              0   \n",
       "4           1                   1      ...             25              0   \n",
       "\n",
       "   PropertyCalls  QOLCalls  TrafficCalls  ViolentCalls  AverageTemperature  \\\n",
       "0             23        71            47            18             37.4075   \n",
       "1             23        83            35            29             37.4075   \n",
       "2              0         0             0             0             37.4075   \n",
       "3              3        10             4             4             37.4075   \n",
       "4             40        76            44             3             37.4075   \n",
       "\n",
       "   AverageHumidity  AveragePrecipitation  Unemployment  \n",
       "0         0.541429               0.00025      0.071667  \n",
       "1         0.541429               0.00025      0.255000  \n",
       "2         0.541429               0.00025      0.139500  \n",
       "3         0.541429               0.00025      0.192000  \n",
       "4         0.541429               0.00025      0.078750  \n",
       "\n",
       "[5 rows x 25 columns]"
      ]
     },
     "execution_count": 8,
     "metadata": {},
     "output_type": "execute_result"
    }
   ],
   "source": [
    "data.head()"
   ]
  },
  {
   "cell_type": "code",
   "execution_count": 9,
   "metadata": {
    "collapsed": false
   },
   "outputs": [
    {
     "data": {
      "text/plain": [
       "Index(['HexagonNumber', 'Month', 'Under20', '20to29', '30to39', '40to49',\n",
       "       '50to59', '60to69', '70andabove', 'NarcanAdministered', 'Male',\n",
       "       'Female', 'MPDCalls', 'FEMSCalls', 'MedicalCalls', 'MiscCals',\n",
       "       'OverdoseCalls', 'PropertyCalls', 'QOLCalls', 'TrafficCalls',\n",
       "       'ViolentCalls', 'AverageTemperature', 'AverageHumidity',\n",
       "       'AveragePrecipitation', 'Unemployment'],\n",
       "      dtype='object')"
      ]
     },
     "execution_count": 9,
     "metadata": {},
     "output_type": "execute_result"
    }
   ],
   "source": [
    "data.columns"
   ]
  },
  {
   "cell_type": "code",
   "execution_count": 10,
   "metadata": {
    "collapsed": false
   },
   "outputs": [
    {
     "name": "stdout",
     "output_type": "stream",
     "text": [
      "(3322, 25)\n",
      "(3322,)\n"
     ]
    }
   ],
   "source": [
    "#load in the columns as features.  Deleted the HexagonNumber, ages, gender, weather and unemployment \n",
    "#because they were causing the model to be predictive and give us perfect scores \n",
    "\n",
    "features = data [[\n",
    "   'HexagonNumber', 'Month', 'Under20', '20to29', '30to39', '40to49',\n",
    "       '50to59', '60to69', '70andabove', 'NarcanAdministered', 'Male',\n",
    "       'Female', 'MPDCalls', 'FEMSCalls', 'MedicalCalls', 'MiscCals',\n",
    "       'OverdoseCalls', 'PropertyCalls', 'QOLCalls', 'TrafficCalls',\n",
    "       'ViolentCalls', 'AverageTemperature', 'AverageHumidity',\n",
    "       'AveragePrecipitation', 'Unemployment'\n",
    "]]\n",
    "\n",
    "X = features\n",
    "\n",
    "y = data['NarcanAdministered']\n",
    "\n",
    "print(X.shape)\n",
    "print(y.shape)"
   ]
  },
  {
   "cell_type": "markdown",
   "metadata": {},
   "source": [
    "# Train Test Split"
   ]
  },
  {
   "cell_type": "code",
   "execution_count": 11,
   "metadata": {
    "collapsed": false
   },
   "outputs": [],
   "source": [
    "from sklearn.model_selection import train_test_split as tts \n",
    "\n",
    "X_train, X_test, y_train, y_test = tts(X, y, test_size=0.2)"
   ]
  },
  {
   "cell_type": "markdown",
   "metadata": {},
   "source": [
    "# K Neighbors"
   ]
  },
  {
   "cell_type": "code",
   "execution_count": 12,
   "metadata": {
    "collapsed": false
   },
   "outputs": [
    {
     "data": {
      "text/plain": [
       "KNeighborsClassifier(algorithm='auto', leaf_size=30, metric='minkowski',\n",
       "           metric_params=None, n_jobs=1, n_neighbors=5, p=2,\n",
       "           weights='uniform')"
      ]
     },
     "execution_count": 12,
     "metadata": {},
     "output_type": "execute_result"
    }
   ],
   "source": [
    "# Import the neighbors model family \n",
    "from sklearn.neighbors import KNeighborsClassifier\n",
    "\n",
    "# Create our first knn model form \n",
    "knn5 = KNeighborsClassifier(n_neighbors=5)\n",
    "knn5.fit(X_train, y_train)"
   ]
  },
  {
   "cell_type": "code",
   "execution_count": 13,
   "metadata": {
    "collapsed": false,
    "scrolled": true
   },
   "outputs": [
    {
     "name": "stdout",
     "output_type": "stream",
     "text": [
      "             precision    recall  f1-score   support\n",
      "\n",
      "          0       0.58      0.60      0.59       325\n",
      "          1       0.61      0.59      0.60       340\n",
      "\n",
      "avg / total       0.59      0.59      0.59       665\n",
      "\n"
     ]
    }
   ],
   "source": [
    "\n",
    "from sklearn.metrics import classification_report\n",
    "y_pred = knn5.predict(X_test)\n",
    "print(classification_report(y_test, y_pred))"
   ]
  },
  {
   "cell_type": "code",
   "execution_count": 14,
   "metadata": {
    "collapsed": false
   },
   "outputs": [
    {
     "data": {
      "text/plain": [
       "KNeighborsClassifier(algorithm='auto', leaf_size=30, metric='minkowski',\n",
       "           metric_params=None, n_jobs=1, n_neighbors=15, p=2,\n",
       "           weights='uniform')"
      ]
     },
     "execution_count": 14,
     "metadata": {},
     "output_type": "execute_result"
    }
   ],
   "source": [
    "# Import the neighbors model family \n",
    "from sklearn.neighbors import KNeighborsClassifier\n",
    "\n",
    "# Create our first knn model form \n",
    "knn15 = KNeighborsClassifier(n_neighbors=15)\n",
    "knn15.fit(X_train, y_train)"
   ]
  },
  {
   "cell_type": "code",
   "execution_count": 15,
   "metadata": {
    "collapsed": false
   },
   "outputs": [
    {
     "name": "stdout",
     "output_type": "stream",
     "text": [
      "             precision    recall  f1-score   support\n",
      "\n",
      "          0       0.55      0.58      0.56       325\n",
      "          1       0.58      0.56      0.57       340\n",
      "\n",
      "avg / total       0.57      0.57      0.57       665\n",
      "\n"
     ]
    }
   ],
   "source": [
    "y_pred = knn15.predict(X_test)\n",
    "print(classification_report(y_test, y_pred))"
   ]
  },
  {
   "cell_type": "markdown",
   "metadata": {},
   "source": [
    "# Regularization with Lasso, Ridge and ElasticNet "
   ]
  },
  {
   "cell_type": "code",
   "execution_count": 16,
   "metadata": {
    "collapsed": true
   },
   "outputs": [],
   "source": [
    "from sklearn.decomposition import PCA\n",
    "from sklearn.feature_selection import SelectFromModel\n",
    "from sklearn.linear_model import Ridge, Lasso, ElasticNet\n",
    "from sklearn.discriminant_analysis import LinearDiscriminantAnalysis as LDA"
   ]
  },
  {
   "cell_type": "code",
   "execution_count": 17,
   "metadata": {
    "collapsed": false
   },
   "outputs": [
    {
     "name": "stdout",
     "output_type": "stream",
     "text": [
      "[('HexagonNumber', -0.00031456166212398133), ('Month', 0.0), ('Under20', 0.0), ('20to29', 0.0), ('30to39', 0.0), ('40to49', 0.0), ('50to59', 0.0), ('60to69', 0.0), ('70andabove', 0.0), ('NarcanAdministered', 0.04818590920925386), ('Male', 0.09582548103092856), ('Female', 0.0), ('MPDCalls', 0.0), ('FEMSCalls', 0.0), ('MedicalCalls', 0.0), ('MiscCals', -0.0), ('OverdoseCalls', 0.0), ('PropertyCalls', 0.0), ('QOLCalls', 2.067091873058908e-05), ('TrafficCalls', 0.0), ('ViolentCalls', 0.0), ('AverageTemperature', 0.002322238999948682), ('AverageHumidity', 0.0), ('AveragePrecipitation', -0.0), ('Unemployment', -0.0)]\n"
     ]
    }
   ],
   "source": [
    "#Regularization using Lasso\n",
    "\"\"\"Perform Regularization Techniques for feature selection\"\"\"\n",
    "\n",
    "from sklearn.linear_model import Ridge, Lasso, ElasticNet\n",
    "from sklearn.feature_selection import SelectFromModel\n",
    "\n",
    "model = Lasso(alpha=0.2)\n",
    "model.fit(X, y)\n",
    "print(list(zip(X, model.coef_.tolist())))"
   ]
  },
  {
   "cell_type": "code",
   "execution_count": 18,
   "metadata": {
    "collapsed": false
   },
   "outputs": [
    {
     "name": "stdout",
     "output_type": "stream",
     "text": [
      "['HexagonNumber', 'NarcanAdministered', 'Male', 'AverageTemperature']\n"
     ]
    }
   ],
   "source": [
    "model = Lasso(alpha=0.05)\n",
    "sfm = SelectFromModel(model)\n",
    "sfm.fit(X, y)\n",
    "print(list(X[sfm.get_support(indices=True)]))"
   ]
  },
  {
   "cell_type": "code",
   "execution_count": 19,
   "metadata": {
    "collapsed": false
   },
   "outputs": [
    {
     "name": "stdout",
     "output_type": "stream",
     "text": [
      "[('HexagonNumber', -3.279883596298111e-07), ('Month', -2.584764909320499e-06), ('Under20', 0.0003278939321726243), ('20to29', 0.0005739479843392872), ('30to39', 0.0007089007235116907), ('40to49', 0.0005284046379331075), ('50to59', 0.000545054986926902), ('60to69', 0.0004341537280659633), ('70andabove', 0.0007689491699049621), ('NarcanAdministered', 0.9976614018501545), ('Male', 4.605760666011932e-05), ('Female', 0.00012185211390981231), ('MPDCalls', 1.0283113987436738e-06), ('FEMSCalls', 3.3468224303620783e-06), ('MedicalCalls', -3.4003862565725305e-06), ('MiscCals', -1.3910092992968713e-06), ('OverdoseCalls', 1.0189463313418113e-05), ('PropertyCalls', -5.630447341331827e-07), ('QOLCalls', -4.5989062644120466e-07), ('TrafficCalls', -9.885366621186754e-07), ('ViolentCalls', 1.623153053295412e-07), ('AverageTemperature', 2.029289460663451e-06), ('AverageHumidity', 0.0005708002546192406), ('AveragePrecipitation', -4.456049510590696e-06), ('Unemployment', -0.00018161553528620822)]\n"
     ]
    }
   ],
   "source": [
    "model = Ridge()\n",
    "model.fit(X, y)\n",
    "print(list(zip(X, model.coef_.tolist())))"
   ]
  },
  {
   "cell_type": "code",
   "execution_count": 20,
   "metadata": {
    "collapsed": false
   },
   "outputs": [
    {
     "name": "stdout",
     "output_type": "stream",
     "text": [
      "['NarcanAdministered']\n"
     ]
    }
   ],
   "source": [
    "model = Ridge()\n",
    "sfm = SelectFromModel(model)\n",
    "sfm.fit(X, y)\n",
    "print(list(X[sfm.get_support(indices=True)]))"
   ]
  },
  {
   "cell_type": "code",
   "execution_count": 21,
   "metadata": {
    "collapsed": false
   },
   "outputs": [
    {
     "name": "stdout",
     "output_type": "stream",
     "text": [
      "[('HexagonNumber', -0.0003123961243493826), ('Month', 0.0), ('Under20', 0.0), ('20to29', 0.0), ('30to39', 0.0), ('40to49', 0.0), ('50to59', 0.0), ('60to69', 0.0), ('70andabove', 0.0), ('NarcanAdministered', 0.09778738990227606), ('Male', 0.09403914972354713), ('Female', 0.0), ('MPDCalls', 0.0), ('FEMSCalls', 0.0), ('MedicalCalls', -0.0), ('MiscCals', -0.00016730218201419064), ('OverdoseCalls', 0.0), ('PropertyCalls', 0.0), ('QOLCalls', 0.00011434931069984138), ('TrafficCalls', 0.0), ('ViolentCalls', 0.0), ('AverageTemperature', 0.0026559150185317794), ('AverageHumidity', 0.0), ('AveragePrecipitation', -0.0), ('Unemployment', -0.0)]\n"
     ]
    }
   ],
   "source": [
    "model = ElasticNet(l1_ratio=0.10)\n",
    "model.fit(X, y)\n",
    "print(list(zip(X, model.coef_.tolist())))"
   ]
  },
  {
   "cell_type": "code",
   "execution_count": 22,
   "metadata": {
    "collapsed": false
   },
   "outputs": [
    {
     "name": "stdout",
     "output_type": "stream",
     "text": [
      "['HexagonNumber', 'AverageTemperature']\n"
     ]
    }
   ],
   "source": [
    "model = ElasticNet()\n",
    "sfm = SelectFromModel(model)\n",
    "sfm.fit(X, y)\n",
    "print(list(X[sfm.get_support(indices=True)]))"
   ]
  },
  {
   "cell_type": "code",
   "execution_count": 23,
   "metadata": {
    "collapsed": false
   },
   "outputs": [
    {
     "name": "stdout",
     "output_type": "stream",
     "text": [
      "(3322, 3)\n",
      "(3322,)\n"
     ]
    }
   ],
   "source": [
    "#load in the columns as features.  Deleted the HexagonNumber, ages, gender, weather and unemployment \n",
    "#because they were causing the model to be predictive and give us perfect scores \n",
    "\n",
    "features = data [[\n",
    "   'Month', 'OverdoseCalls', 'PropertyCalls'\n",
    "]]\n",
    "\n",
    "X = features\n",
    "\n",
    "y = data['NarcanAdministered']\n",
    "\n",
    "print(X.shape)\n",
    "print(y.shape)"
   ]
  },
  {
   "cell_type": "code",
   "execution_count": 24,
   "metadata": {
    "collapsed": false
   },
   "outputs": [
    {
     "data": {
      "text/plain": [
       "KNeighborsClassifier(algorithm='auto', leaf_size=30, metric='minkowski',\n",
       "           metric_params=None, n_jobs=1, n_neighbors=15, p=2,\n",
       "           weights='uniform')"
      ]
     },
     "execution_count": 24,
     "metadata": {},
     "output_type": "execute_result"
    }
   ],
   "source": [
    "# Create our first knn model form \n",
    "knn15 = KNeighborsClassifier(n_neighbors=15)\n",
    "knn15.fit(X_train, y_train)"
   ]
  },
  {
   "cell_type": "code",
   "execution_count": 25,
   "metadata": {
    "collapsed": false
   },
   "outputs": [
    {
     "name": "stdout",
     "output_type": "stream",
     "text": [
      "             precision    recall  f1-score   support\n",
      "\n",
      "          0       0.55      0.58      0.56       325\n",
      "          1       0.58      0.56      0.57       340\n",
      "\n",
      "avg / total       0.57      0.57      0.57       665\n",
      "\n"
     ]
    }
   ],
   "source": [
    "y_pred = knn15.predict(X_test)\n",
    "print(classification_report(y_test, y_pred))"
   ]
  },
  {
   "cell_type": "markdown",
   "metadata": {},
   "source": [
    "# K5 and K15 Neighbors with all the Features "
   ]
  },
  {
   "cell_type": "code",
   "execution_count": 26,
   "metadata": {
    "collapsed": false
   },
   "outputs": [
    {
     "name": "stdout",
     "output_type": "stream",
     "text": [
      "(3322, 24)\n",
      "(3322,)\n"
     ]
    }
   ],
   "source": [
    "features = data [[\n",
    "    'HexagonNumber', 'Month', 'Under20', '20to29', '30to39', '40to49',\n",
    "       '50to59', '60to69', '70andabove', 'Male',\n",
    "       'Female', 'MPDCalls', 'FEMSCalls', 'MedicalCalls', 'MiscCals',\n",
    "       'OverdoseCalls', 'PropertyCalls', 'QOLCalls', 'TrafficCalls',\n",
    "       'ViolentCalls', 'AverageTemperature', 'AverageHumidity',\n",
    "       'AveragePrecipitation', 'Unemployment'\n",
    "]]\n",
    "\n",
    "X = features\n",
    "\n",
    "y = data['NarcanAdministered']\n",
    "\n",
    "print(X.shape)\n",
    "print(y.shape)"
   ]
  },
  {
   "cell_type": "code",
   "execution_count": 27,
   "metadata": {
    "collapsed": true
   },
   "outputs": [],
   "source": [
    "X_train, X_test, y_train, y_test = tts(X, y, test_size=0.2)"
   ]
  },
  {
   "cell_type": "code",
   "execution_count": 28,
   "metadata": {
    "collapsed": true
   },
   "outputs": [],
   "source": [
    "from sklearn.metrics import classification_report"
   ]
  },
  {
   "cell_type": "code",
   "execution_count": 29,
   "metadata": {
    "collapsed": false
   },
   "outputs": [
    {
     "data": {
      "text/plain": [
       "KNeighborsClassifier(algorithm='auto', leaf_size=30, metric='minkowski',\n",
       "           metric_params=None, n_jobs=1, n_neighbors=5, p=2,\n",
       "           weights='uniform')"
      ]
     },
     "execution_count": 29,
     "metadata": {},
     "output_type": "execute_result"
    }
   ],
   "source": [
    "# Import the neighbors model family \n",
    "from sklearn.neighbors import KNeighborsClassifier\n",
    "\n",
    "# Create our first knn model form \n",
    "knn5 = KNeighborsClassifier(n_neighbors=5)\n",
    "knn5.fit(X_train, y_train)"
   ]
  },
  {
   "cell_type": "code",
   "execution_count": 30,
   "metadata": {
    "collapsed": false
   },
   "outputs": [
    {
     "name": "stdout",
     "output_type": "stream",
     "text": [
      "             precision    recall  f1-score   support\n",
      "\n",
      "          0       0.58      0.63      0.60       319\n",
      "          1       0.63      0.58      0.60       346\n",
      "\n",
      "avg / total       0.60      0.60      0.60       665\n",
      "\n"
     ]
    }
   ],
   "source": [
    "y_pred = knn5.predict(X_test)\n",
    "print(classification_report(y_test, y_pred))"
   ]
  },
  {
   "cell_type": "code",
   "execution_count": 31,
   "metadata": {
    "collapsed": false
   },
   "outputs": [
    {
     "data": {
      "text/plain": [
       "KNeighborsClassifier(algorithm='auto', leaf_size=30, metric='minkowski',\n",
       "           metric_params=None, n_jobs=1, n_neighbors=15, p=2,\n",
       "           weights='uniform')"
      ]
     },
     "execution_count": 31,
     "metadata": {},
     "output_type": "execute_result"
    }
   ],
   "source": [
    "# Create our first knn model form \n",
    "knn15 = KNeighborsClassifier(n_neighbors=15)\n",
    "knn15.fit(X_train, y_train)"
   ]
  },
  {
   "cell_type": "code",
   "execution_count": 32,
   "metadata": {
    "collapsed": false,
    "scrolled": true
   },
   "outputs": [
    {
     "name": "stdout",
     "output_type": "stream",
     "text": [
      "             precision    recall  f1-score   support\n",
      "\n",
      "          0       0.55      0.60      0.58       319\n",
      "          1       0.60      0.55      0.58       346\n",
      "\n",
      "avg / total       0.58      0.58      0.58       665\n",
      "\n"
     ]
    }
   ],
   "source": [
    "y_pred = knn15.predict(X_test)\n",
    "print(classification_report(y_test, y_pred))"
   ]
  },
  {
   "cell_type": "code",
   "execution_count": 34,
   "metadata": {
    "collapsed": false
   },
   "outputs": [
    {
     "name": "stdout",
     "output_type": "stream",
     "text": [
      "0.601503759398\n",
      "[[201 118]\n",
      " [147 199]]\n",
      "             precision    recall  f1-score   support\n",
      "\n",
      "          0       0.58      0.63      0.60       319\n",
      "          1       0.63      0.58      0.60       346\n",
      "\n",
      "avg / total       0.60      0.60      0.60       665\n",
      "\n"
     ]
    }
   ],
   "source": [
    "from sklearn.metrics import confusion_matrix\n",
    "from sklearn.metrics import accuracy_score\n",
    "\n",
    "model = KNeighborsClassifier(n_neighbors=5)\n",
    "model.fit(X_train, y_train)\n",
    "predictions = model.predict(X_test)\n",
    "print(accuracy_score(y_test, predictions))\n",
    "print(confusion_matrix(y_test, predictions))\n",
    "print(classification_report(y_test, predictions))"
   ]
  },
  {
   "cell_type": "code",
   "execution_count": null,
   "metadata": {
    "collapsed": true
   },
   "outputs": [],
   "source": []
  }
 ],
 "metadata": {
  "kernelspec": {
   "display_name": "Python 3",
   "language": "python",
   "name": "python3"
  },
  "language_info": {
   "codemirror_mode": {
    "name": "ipython",
    "version": 3
   },
   "file_extension": ".py",
   "mimetype": "text/x-python",
   "name": "python",
   "nbconvert_exporter": "python",
   "pygments_lexer": "ipython3",
   "version": "3.6.0"
  }
 },
 "nbformat": 4,
 "nbformat_minor": 2
}
