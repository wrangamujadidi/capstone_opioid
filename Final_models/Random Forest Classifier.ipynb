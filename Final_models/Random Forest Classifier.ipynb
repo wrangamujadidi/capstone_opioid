{
 "cells": [
  {
   "cell_type": "markdown",
   "metadata": {},
   "source": [
    "### Imports"
   ]
  },
  {
   "cell_type": "code",
   "execution_count": 21,
   "metadata": {
    "collapsed": true
   },
   "outputs": [],
   "source": [
    "import os \n",
    "import pickle\n",
    "\n",
    "import pandas as pd\n",
    "import numpy as np\n",
    "import matplotlib.pyplot as plt\n",
    "\n",
    "from sklearn.metrics import classification_report\n"
   ]
  },
  {
   "cell_type": "markdown",
   "metadata": {},
   "source": [
    "# Read in Data"
   ]
  },
  {
   "cell_type": "code",
   "execution_count": 22,
   "metadata": {
    "collapsed": false
   },
   "outputs": [
    {
     "data": {
      "text/plain": [
       "'/Users/wrangamujadidi/Desktop/Capstone/capstone_opioid/Data/finaldataframecopy_wWeather.csv'"
      ]
     },
     "execution_count": 22,
     "metadata": {},
     "output_type": "execute_result"
    }
   ],
   "source": [
    "\n",
    "PATH = os.path.abspath(os.path.join(os.path.dirname(\".\"), \"Data\"))\n",
    "FINAL_DATA = os.path.join(PATH, \"finaldataframecopy_wWeather.csv\")\n",
    "\n",
    "FINAL_DATA"
   ]
  },
  {
   "cell_type": "code",
   "execution_count": 23,
   "metadata": {
    "collapsed": true
   },
   "outputs": [],
   "source": [
    "#insert the data into a DataFrame\n",
    "\n",
    "data = pd.read_csv(FINAL_DATA)"
   ]
  },
  {
   "cell_type": "code",
   "execution_count": 24,
   "metadata": {
    "collapsed": false
   },
   "outputs": [
    {
     "data": {
      "text/html": [
       "<div>\n",
       "<table border=\"1\" class=\"dataframe\">\n",
       "  <thead>\n",
       "    <tr style=\"text-align: right;\">\n",
       "      <th></th>\n",
       "      <th>HexagonNumber</th>\n",
       "      <th>HexandMonth</th>\n",
       "      <th>Month</th>\n",
       "      <th>Under20</th>\n",
       "      <th>20to29</th>\n",
       "      <th>30to39</th>\n",
       "      <th>40to49</th>\n",
       "      <th>50to59</th>\n",
       "      <th>60to69</th>\n",
       "      <th>70andabove</th>\n",
       "      <th>...</th>\n",
       "      <th>MiscCals</th>\n",
       "      <th>OverdoseCalls</th>\n",
       "      <th>PropertyCalls</th>\n",
       "      <th>QOLCalls</th>\n",
       "      <th>TrafficCalls</th>\n",
       "      <th>ViolentCalls</th>\n",
       "      <th>AverageTemperature</th>\n",
       "      <th>AverageHumidity</th>\n",
       "      <th>AveragePrecipitation</th>\n",
       "      <th>Unemployment</th>\n",
       "    </tr>\n",
       "  </thead>\n",
       "  <tbody>\n",
       "    <tr>\n",
       "      <th>0</th>\n",
       "      <td>1</td>\n",
       "      <td>1-1</td>\n",
       "      <td>1</td>\n",
       "      <td>0</td>\n",
       "      <td>0</td>\n",
       "      <td>0</td>\n",
       "      <td>0</td>\n",
       "      <td>0</td>\n",
       "      <td>0</td>\n",
       "      <td>0</td>\n",
       "      <td>...</td>\n",
       "      <td>0</td>\n",
       "      <td>0</td>\n",
       "      <td>0</td>\n",
       "      <td>5</td>\n",
       "      <td>5</td>\n",
       "      <td>0</td>\n",
       "      <td>37.4075</td>\n",
       "      <td>0.541429</td>\n",
       "      <td>0.00025</td>\n",
       "      <td>0.274</td>\n",
       "    </tr>\n",
       "    <tr>\n",
       "      <th>1</th>\n",
       "      <td>1</td>\n",
       "      <td>1-2</td>\n",
       "      <td>2</td>\n",
       "      <td>0</td>\n",
       "      <td>0</td>\n",
       "      <td>0</td>\n",
       "      <td>0</td>\n",
       "      <td>0</td>\n",
       "      <td>0</td>\n",
       "      <td>0</td>\n",
       "      <td>...</td>\n",
       "      <td>0</td>\n",
       "      <td>0</td>\n",
       "      <td>0</td>\n",
       "      <td>0</td>\n",
       "      <td>0</td>\n",
       "      <td>0</td>\n",
       "      <td>37.4075</td>\n",
       "      <td>0.541429</td>\n",
       "      <td>0.00025</td>\n",
       "      <td>0.274</td>\n",
       "    </tr>\n",
       "    <tr>\n",
       "      <th>2</th>\n",
       "      <td>1</td>\n",
       "      <td>1-3</td>\n",
       "      <td>3</td>\n",
       "      <td>0</td>\n",
       "      <td>0</td>\n",
       "      <td>0</td>\n",
       "      <td>0</td>\n",
       "      <td>0</td>\n",
       "      <td>0</td>\n",
       "      <td>0</td>\n",
       "      <td>...</td>\n",
       "      <td>0</td>\n",
       "      <td>0</td>\n",
       "      <td>0</td>\n",
       "      <td>0</td>\n",
       "      <td>0</td>\n",
       "      <td>0</td>\n",
       "      <td>37.4075</td>\n",
       "      <td>0.541429</td>\n",
       "      <td>0.00025</td>\n",
       "      <td>0.274</td>\n",
       "    </tr>\n",
       "    <tr>\n",
       "      <th>3</th>\n",
       "      <td>1</td>\n",
       "      <td>1-4</td>\n",
       "      <td>4</td>\n",
       "      <td>0</td>\n",
       "      <td>0</td>\n",
       "      <td>0</td>\n",
       "      <td>0</td>\n",
       "      <td>0</td>\n",
       "      <td>0</td>\n",
       "      <td>0</td>\n",
       "      <td>...</td>\n",
       "      <td>0</td>\n",
       "      <td>0</td>\n",
       "      <td>0</td>\n",
       "      <td>0</td>\n",
       "      <td>0</td>\n",
       "      <td>0</td>\n",
       "      <td>37.4075</td>\n",
       "      <td>0.541429</td>\n",
       "      <td>0.00025</td>\n",
       "      <td>0.274</td>\n",
       "    </tr>\n",
       "    <tr>\n",
       "      <th>4</th>\n",
       "      <td>1</td>\n",
       "      <td>1-5</td>\n",
       "      <td>5</td>\n",
       "      <td>0</td>\n",
       "      <td>0</td>\n",
       "      <td>0</td>\n",
       "      <td>0</td>\n",
       "      <td>0</td>\n",
       "      <td>0</td>\n",
       "      <td>0</td>\n",
       "      <td>...</td>\n",
       "      <td>0</td>\n",
       "      <td>0</td>\n",
       "      <td>0</td>\n",
       "      <td>0</td>\n",
       "      <td>0</td>\n",
       "      <td>0</td>\n",
       "      <td>37.4075</td>\n",
       "      <td>0.541429</td>\n",
       "      <td>0.00025</td>\n",
       "      <td>0.274</td>\n",
       "    </tr>\n",
       "  </tbody>\n",
       "</table>\n",
       "<p>5 rows × 27 columns</p>\n",
       "</div>"
      ],
      "text/plain": [
       "   HexagonNumber HexandMonth  Month  Under20  20to29  30to39  40to49  50to59  \\\n",
       "0              1         1-1      1        0       0       0       0       0   \n",
       "1              1         1-2      2        0       0       0       0       0   \n",
       "2              1         1-3      3        0       0       0       0       0   \n",
       "3              1         1-4      4        0       0       0       0       0   \n",
       "4              1         1-5      5        0       0       0       0       0   \n",
       "\n",
       "   60to69  70andabove      ...       MiscCals  OverdoseCalls  PropertyCalls  \\\n",
       "0       0           0      ...              0              0              0   \n",
       "1       0           0      ...              0              0              0   \n",
       "2       0           0      ...              0              0              0   \n",
       "3       0           0      ...              0              0              0   \n",
       "4       0           0      ...              0              0              0   \n",
       "\n",
       "   QOLCalls  TrafficCalls  ViolentCalls  AverageTemperature  AverageHumidity  \\\n",
       "0         5             5             0             37.4075         0.541429   \n",
       "1         0             0             0             37.4075         0.541429   \n",
       "2         0             0             0             37.4075         0.541429   \n",
       "3         0             0             0             37.4075         0.541429   \n",
       "4         0             0             0             37.4075         0.541429   \n",
       "\n",
       "   AveragePrecipitation  Unemployment  \n",
       "0               0.00025         0.274  \n",
       "1               0.00025         0.274  \n",
       "2               0.00025         0.274  \n",
       "3               0.00025         0.274  \n",
       "4               0.00025         0.274  \n",
       "\n",
       "[5 rows x 27 columns]"
      ]
     },
     "execution_count": 24,
     "metadata": {},
     "output_type": "execute_result"
    }
   ],
   "source": [
    "#make sure the data loaded properly \n",
    "\n",
    "data.head()"
   ]
  },
  {
   "cell_type": "code",
   "execution_count": 25,
   "metadata": {
    "collapsed": true
   },
   "outputs": [],
   "source": [
    "#Drop the columns for HexandMonth and TotalNarcan.  HEXandMonth is not needed and TotalNarcan may cause bias because\n",
    "#the Narcan Administered already accounts for the TotalNarcan for the month. \n",
    "\n",
    "data = data.drop(['HexandMonth'], axis=1)\n",
    "data = data.drop(['TotalNarcan'], axis=1)"
   ]
  },
  {
   "cell_type": "code",
   "execution_count": 26,
   "metadata": {
    "collapsed": false
   },
   "outputs": [
    {
     "data": {
      "text/plain": [
       "Index(['HexagonNumber', 'Month', 'Under20', '20to29', '30to39', '40to49',\n",
       "       '50to59', '60to69', '70andabove', 'NarcanAdministered', 'Male',\n",
       "       'Female', 'MPDCalls', 'FEMSCalls', 'MedicalCalls', 'MiscCals',\n",
       "       'OverdoseCalls', 'PropertyCalls', 'QOLCalls', 'TrafficCalls',\n",
       "       'ViolentCalls', 'AverageTemperature', 'AverageHumidity',\n",
       "       'AveragePrecipitation', 'Unemployment'],\n",
       "      dtype='object')"
      ]
     },
     "execution_count": 26,
     "metadata": {},
     "output_type": "execute_result"
    }
   ],
   "source": [
    "data.columns"
   ]
  },
  {
   "cell_type": "markdown",
   "metadata": {},
   "source": [
    "# Seperate the data into the features and the target"
   ]
  },
  {
   "cell_type": "code",
   "execution_count": 27,
   "metadata": {
    "collapsed": false
   },
   "outputs": [
    {
     "name": "stdout",
     "output_type": "stream",
     "text": [
      "(9444, 10)\n",
      "(9444,)\n"
     ]
    }
   ],
   "source": [
    "#load in the columns as features.  Deleted the HexagonNumber, ages, gender, weather and unemployment \n",
    "#because they were causing the model to be predictive and give us perfect scores \n",
    "\n",
    "features = data [[\n",
    "   'Month','MPDCalls', 'FEMSCalls', 'MedicalCalls', 'MiscCals',\n",
    "       'OverdoseCalls', 'PropertyCalls', 'QOLCalls', 'TrafficCalls',\n",
    "       'ViolentCalls'\n",
    "]]\n",
    "\n",
    "X = features\n",
    "\n",
    "y = data['NarcanAdministered']\n",
    "\n",
    "print(X.shape)\n",
    "print(y.shape)"
   ]
  },
  {
   "cell_type": "code",
   "execution_count": 28,
   "metadata": {
    "collapsed": false
   },
   "outputs": [
    {
     "data": {
      "text/plain": [
       "['Month',\n",
       " 'MPDCalls',\n",
       " 'FEMSCalls',\n",
       " 'MedicalCalls',\n",
       " 'MiscCals',\n",
       " 'OverdoseCalls',\n",
       " 'PropertyCalls',\n",
       " 'QOLCalls',\n",
       " 'TrafficCalls',\n",
       " 'ViolentCalls']"
      ]
     },
     "execution_count": 28,
     "metadata": {},
     "output_type": "execute_result"
    }
   ],
   "source": [
    "list(features)"
   ]
  },
  {
   "cell_type": "markdown",
   "metadata": {},
   "source": [
    "### Creating the test/train split"
   ]
  },
  {
   "cell_type": "code",
   "execution_count": 29,
   "metadata": {
    "collapsed": false
   },
   "outputs": [],
   "source": [
    "#Create the test and train splits (80/20)\n",
    "from sklearn.model_selection import train_test_split as tts \n",
    "X_train, X_test, y_train, y_test = tts(X,y, test_size=0.2)"
   ]
  },
  {
   "cell_type": "markdown",
   "metadata": {},
   "source": [
    "# Random Forest Classifier"
   ]
  },
  {
   "cell_type": "code",
   "execution_count": 30,
   "metadata": {
    "collapsed": false
   },
   "outputs": [
    {
     "data": {
      "text/plain": [
       "RandomForestClassifier(bootstrap=True, class_weight=None, criterion='gini',\n",
       "            max_depth=None, max_features='auto', max_leaf_nodes=None,\n",
       "            min_impurity_split=1e-07, min_samples_leaf=1,\n",
       "            min_samples_split=2, min_weight_fraction_leaf=0.0,\n",
       "            n_estimators=50, n_jobs=1, oob_score=True, random_state=None,\n",
       "            verbose=0, warm_start=False)"
      ]
     },
     "execution_count": 30,
     "metadata": {},
     "output_type": "execute_result"
    }
   ],
   "source": [
    "# Import the model form \n",
    "from sklearn.ensemble import RandomForestClassifier\n",
    "\n",
    "# We'll select 50 trees and opt for 'out-of-bag' samples to estimate the generalization error.\n",
    "\n",
    "rf = RandomForestClassifier(n_estimators=50, oob_score=True)\n",
    "rf.fit(X_train, y_train)"
   ]
  },
  {
   "cell_type": "code",
   "execution_count": 31,
   "metadata": {
    "collapsed": false
   },
   "outputs": [
    {
     "data": {
      "text/plain": [
       "0.81842244573848599"
      ]
     },
     "execution_count": 31,
     "metadata": {},
     "output_type": "execute_result"
    }
   ],
   "source": [
    "rf.score(X_test, y_test)"
   ]
  },
  {
   "cell_type": "code",
   "execution_count": 32,
   "metadata": {
    "collapsed": false
   },
   "outputs": [
    {
     "name": "stdout",
     "output_type": "stream",
     "text": [
      "             precision    recall  f1-score   support\n",
      "\n",
      "          0       0.94      1.00      0.97      1568\n",
      "          1       0.99      0.69      0.81       321\n",
      "\n",
      "avg / total       0.95      0.95      0.94      1889\n",
      "\n"
     ]
    }
   ],
   "source": [
    "# Import the model form \n",
    "from sklearn.ensemble import RandomForestClassifier\n",
    "\n",
    "# Fit the Model\n",
    "model = RandomForestClassifier() \n",
    "model.fit(X_test, y_test)\n",
    "\n",
    "# Predict and report \n",
    "y_pred = model.predict(X_test)\n",
    "print(classification_report(y_test, y_pred))\n"
   ]
  },
  {
   "cell_type": "code",
   "execution_count": 33,
   "metadata": {
    "collapsed": false
   },
   "outputs": [
    {
     "data": {
      "image/png": "[encoded data removed]",
      "text/plain": [
       "<matplotlib.figure.Figure at 0x116ffee48>"
      ]
     },
     "metadata": {},
     "output_type": "display_data"
    }
   ],
   "source": [
    "from yellowbrick.classifier import ClassificationReport\n",
    "\n",
    "visualizer = ClassificationReport(model)\n",
    "\n",
    "visualizer.fit(X_train, y_train)  # Fit the training data to the visualizer\n",
    "visualizer.score(X_test, y_test)  # Evaluate the model on the test data\n",
    "g = visualizer.poof()             # Draw/show/poof the data"
   ]
  },
  {
   "cell_type": "markdown",
   "metadata": {},
   "source": [
    "# Regularization"
   ]
  },
  {
   "cell_type": "markdown",
   "metadata": {},
   "source": [
    "## Lasso"
   ]
  },
  {
   "cell_type": "code",
   "execution_count": 34,
   "metadata": {
    "collapsed": false
   },
   "outputs": [
    {
     "name": "stdout",
     "output_type": "stream",
     "text": [
      "[('Month', 0.0), ('MPDCalls', 0.0), ('FEMSCalls', 0.0), ('MedicalCalls', 0.0), ('MiscCals', 0.0), ('OverdoseCalls', 0.0), ('PropertyCalls', -0.0), ('QOLCalls', 6.4883602392496e-05), ('TrafficCalls', 0.0), ('ViolentCalls', 0.0)]\n"
     ]
    }
   ],
   "source": [
    "\n",
    "\"\"\"Perform Regularization Techniques for feature selection\"\"\"\n",
    "\n",
    "from sklearn.linear_model import Ridge, Lasso, ElasticNet\n",
    "from sklearn.feature_selection import SelectFromModel\n",
    "\n",
    "model = Lasso(alpha=0.2)\n",
    "model.fit(X, y)\n",
    "print(list(zip(X, model.coef_.tolist())))"
   ]
  },
  {
   "cell_type": "code",
   "execution_count": 35,
   "metadata": {
    "collapsed": false
   },
   "outputs": [
    {
     "name": "stdout",
     "output_type": "stream",
     "text": [
      "['PropertyCalls', 'QOLCalls']\n"
     ]
    }
   ],
   "source": [
    "model = Lasso(alpha=0.05)\n",
    "sfm = SelectFromModel(model)\n",
    "sfm.fit(X, y)\n",
    "print(list(X[sfm.get_support(indices=True)]))"
   ]
  },
  {
   "cell_type": "markdown",
   "metadata": {},
   "source": [
    "## Ridge"
   ]
  },
  {
   "cell_type": "code",
   "execution_count": 36,
   "metadata": {
    "collapsed": false
   },
   "outputs": [
    {
     "name": "stdout",
     "output_type": "stream",
     "text": [
      "[('Month', 0.002614466572196494), ('MPDCalls', 0.0009904947976399898), ('FEMSCalls', 0.0012137583605246862), ('MedicalCalls', -0.0014476708015327977), ('MiscCals', -0.0010714520230508983), ('OverdoseCalls', 0.007340619247404985), ('PropertyCalls', -0.0022346651915442963), ('QOLCalls', -0.00038257806260807525), ('TrafficCalls', -0.00046305865928176733), ('ViolentCalls', 0.0004049087641970936)]\n"
     ]
    }
   ],
   "source": [
    "model = Ridge()\n",
    "model.fit(X, y)\n",
    "print(list(zip(X, model.coef_.tolist())))"
   ]
  },
  {
   "cell_type": "code",
   "execution_count": 37,
   "metadata": {
    "collapsed": false
   },
   "outputs": [
    {
     "name": "stdout",
     "output_type": "stream",
     "text": [
      "['Month', 'OverdoseCalls', 'PropertyCalls']\n"
     ]
    }
   ],
   "source": [
    "model = Ridge()\n",
    "sfm = SelectFromModel(model)\n",
    "sfm.fit(X, y)\n",
    "print(list(X[sfm.get_support(indices=True)]))"
   ]
  },
  {
   "cell_type": "markdown",
   "metadata": {},
   "source": [
    "## Elastic Net"
   ]
  },
  {
   "cell_type": "code",
   "execution_count": 38,
   "metadata": {
    "collapsed": false
   },
   "outputs": [
    {
     "name": "stdout",
     "output_type": "stream",
     "text": [
      "[('Month', 0.0), ('MPDCalls', 0.0), ('FEMSCalls', 0.0), ('MedicalCalls', 0.0), ('MiscCals', -0.0), ('OverdoseCalls', 0.0), ('PropertyCalls', -0.0), ('QOLCalls', 9.850087747089478e-05), ('TrafficCalls', 0.0), ('ViolentCalls', 0.0)]\n"
     ]
    }
   ],
   "source": [
    "model = ElasticNet(l1_ratio=0.10)\n",
    "model.fit(X, y)\n",
    "print(list(zip(X, model.coef_.tolist())))"
   ]
  },
  {
   "cell_type": "code",
   "execution_count": 41,
   "metadata": {
    "collapsed": false
   },
   "outputs": [
    {
     "name": "stdout",
     "output_type": "stream",
     "text": [
      "['Month', 'OverdoseCalls', 'PropertyCalls']\n"
     ]
    }
   ],
   "source": [
    "model = ElasticNet()\n",
    "sfm = SelectFromModel(model)\n",
    "sfm.fit(X, y)\n",
    "print(list(X[sfm.get_support(indices=True)]))"
   ]
  },
  {
   "cell_type": "markdown",
   "metadata": {},
   "source": [
    "# Scores using the regularized data "
   ]
  },
  {
   "cell_type": "code",
   "execution_count": 42,
   "metadata": {
    "collapsed": false
   },
   "outputs": [
    {
     "name": "stdout",
     "output_type": "stream",
     "text": [
      "(9444, 3)\n",
      "(9444,)\n"
     ]
    }
   ],
   "source": [
    "features = data [[\n",
    "   'Month', 'OverdoseCalls', 'PropertyCalls'\n",
    "]]\n",
    "\n",
    "X = features\n",
    "\n",
    "y = data['NarcanAdministered']\n",
    "\n",
    "print(X.shape)\n",
    "print(y.shape)"
   ]
  },
  {
   "cell_type": "code",
   "execution_count": 43,
   "metadata": {
    "collapsed": false
   },
   "outputs": [
    {
     "name": "stdout",
     "output_type": "stream",
     "text": [
      "             precision    recall  f1-score   support\n",
      "\n",
      "          0       0.94      1.00      0.97      1568\n",
      "          1       1.00      0.69      0.82       321\n",
      "\n",
      "avg / total       0.95      0.95      0.94      1889\n",
      "\n"
     ]
    }
   ],
   "source": [
    "\n",
    "# Fit the Model\n",
    "model = RandomForestClassifier() \n",
    "model.fit(X_test, y_test)\n",
    "\n",
    "# Predict and report \n",
    "y_pred = model.predict(X_test)\n",
    "print(classification_report(y_test, y_pred))\n",
    "\n"
   ]
  },
  {
   "cell_type": "code",
   "execution_count": 44,
   "metadata": {
    "collapsed": false
   },
   "outputs": [
    {
     "data": {
      "image/png": "[encoded data removed]",
      "text/plain": [
       "<matplotlib.figure.Figure at 0x1162e69b0>"
      ]
     },
     "metadata": {},
     "output_type": "display_data"
    }
   ],
   "source": [
    "visualizer = ClassificationReport(model)\n",
    "\n",
    "visualizer.fit(X_train, y_train)  # Fit the training data to the visualizer\n",
    "visualizer.score(X_test, y_test)  # Evaluate the model on the test data\n",
    "g = visualizer.poof()             # Draw/show/poof the data"
   ]
  },
  {
   "cell_type": "code",
   "execution_count": null,
   "metadata": {
    "collapsed": true
   },
   "outputs": [],
   "source": []
  }
 ],
 "metadata": {
  "kernelspec": {
   "display_name": "Python 3",
   "language": "python",
   "name": "python3"
  },
  "language_info": {
   "codemirror_mode": {
    "name": "ipython",
    "version": 3
   },
   "file_extension": ".py",
   "mimetype": "text/x-python",
   "name": "python",
   "nbconvert_exporter": "python",
   "pygments_lexer": "ipython3",
   "version": "3.6.0"
  }
 },
 "nbformat": 4,
 "nbformat_minor": 2
}
