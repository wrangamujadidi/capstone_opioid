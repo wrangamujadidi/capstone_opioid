{
 "cells": [
  {
   "cell_type": "code",
   "execution_count": 10,
   "metadata": {
    "collapsed": false
   },
   "outputs": [
    {
     "name": "stderr",
     "output_type": "stream",
     "text": [
      "/anaconda/lib/python3.6/site-packages/sklearn/cross_validation.py:44: DeprecationWarning: This module was deprecated in version 0.18 in favor of the model_selection module into which all the refactored classes and functions are moved. Also note that the interface of the new CV iterators are different from that of this module. This module will be removed in 0.20.\n",
      "  \"This module will be removed in 0.20.\", DeprecationWarning)\n",
      "/anaconda/lib/python3.6/site-packages/sklearn/grid_search.py:43: DeprecationWarning: This module was deprecated in version 0.18 in favor of the model_selection module into which all the refactored classes and functions are moved. This module will be removed in 0.20.\n",
      "  DeprecationWarning)\n"
     ]
    }
   ],
   "source": [
    "import os\n",
    "import csv\n",
    "import pandas as pd\n",
    "import numpy as np\n",
    "import matplotlib.pyplot as plt\n",
    "from sklearn import cross_validation as cv\n",
    "import scipy.stats as stats\n",
    "from sklearn.linear_model import LogisticRegression\n",
    "from sklearn.cross_validation import cross_val_score\n",
    "from sklearn.grid_search import GridSearchCV as gs\n",
    "from sklearn import metrics as metrics\n",
    "from sklearn.preprocessing import StandardScaler"
   ]
  },
  {
   "cell_type": "code",
   "execution_count": 11,
   "metadata": {
    "collapsed": false
   },
   "outputs": [
    {
     "data": {
      "text/plain": [
       "'/Users/wrangamujadidi/Desktop/Capstone/capstone_opioid/Data/finaldataframecopy_wWeather.csv'"
      ]
     },
     "execution_count": 11,
     "metadata": {},
     "output_type": "execute_result"
    }
   ],
   "source": [
    "PATH = os.path.abspath(os.path.join(os.path.dirname(\".\"), \"Data\"))\n",
    "FINAL_DATA = os.path.join(PATH, \"finaldataframecopy_wWeather.csv\")\n",
    "\n",
    "FINAL_DATA"
   ]
  },
  {
   "cell_type": "code",
   "execution_count": 13,
   "metadata": {
    "collapsed": true
   },
   "outputs": [],
   "source": [
    "data = pd.read_csv(FINAL_DATA)"
   ]
  },
  {
   "cell_type": "code",
   "execution_count": 14,
   "metadata": {
    "collapsed": false
   },
   "outputs": [
    {
     "data": {
      "text/html": [
       "<div>\n",
       "<table border=\"1\" class=\"dataframe\">\n",
       "  <thead>\n",
       "    <tr style=\"text-align: right;\">\n",
       "      <th></th>\n",
       "      <th>HexagonNumber</th>\n",
       "      <th>HexandMonth</th>\n",
       "      <th>Month</th>\n",
       "      <th>Under20</th>\n",
       "      <th>20to29</th>\n",
       "      <th>30to39</th>\n",
       "      <th>40to49</th>\n",
       "      <th>50to59</th>\n",
       "      <th>60to69</th>\n",
       "      <th>70andabove</th>\n",
       "      <th>...</th>\n",
       "      <th>MiscCals</th>\n",
       "      <th>OverdoseCalls</th>\n",
       "      <th>PropertyCalls</th>\n",
       "      <th>QOLCalls</th>\n",
       "      <th>TrafficCalls</th>\n",
       "      <th>ViolentCalls</th>\n",
       "      <th>AverageTemperature</th>\n",
       "      <th>AverageHumidity</th>\n",
       "      <th>AveragePrecipitation</th>\n",
       "      <th>Unemployment</th>\n",
       "    </tr>\n",
       "  </thead>\n",
       "  <tbody>\n",
       "    <tr>\n",
       "      <th>0</th>\n",
       "      <td>1</td>\n",
       "      <td>1-1</td>\n",
       "      <td>1</td>\n",
       "      <td>0</td>\n",
       "      <td>0</td>\n",
       "      <td>0</td>\n",
       "      <td>0</td>\n",
       "      <td>0</td>\n",
       "      <td>0</td>\n",
       "      <td>0</td>\n",
       "      <td>...</td>\n",
       "      <td>0</td>\n",
       "      <td>0</td>\n",
       "      <td>0</td>\n",
       "      <td>5</td>\n",
       "      <td>5</td>\n",
       "      <td>0</td>\n",
       "      <td>37.4075</td>\n",
       "      <td>0.541429</td>\n",
       "      <td>0.00025</td>\n",
       "      <td>0.274</td>\n",
       "    </tr>\n",
       "    <tr>\n",
       "      <th>1</th>\n",
       "      <td>1</td>\n",
       "      <td>1-2</td>\n",
       "      <td>2</td>\n",
       "      <td>0</td>\n",
       "      <td>0</td>\n",
       "      <td>0</td>\n",
       "      <td>0</td>\n",
       "      <td>0</td>\n",
       "      <td>0</td>\n",
       "      <td>0</td>\n",
       "      <td>...</td>\n",
       "      <td>0</td>\n",
       "      <td>0</td>\n",
       "      <td>0</td>\n",
       "      <td>0</td>\n",
       "      <td>0</td>\n",
       "      <td>0</td>\n",
       "      <td>37.4075</td>\n",
       "      <td>0.541429</td>\n",
       "      <td>0.00025</td>\n",
       "      <td>0.274</td>\n",
       "    </tr>\n",
       "    <tr>\n",
       "      <th>2</th>\n",
       "      <td>1</td>\n",
       "      <td>1-3</td>\n",
       "      <td>3</td>\n",
       "      <td>0</td>\n",
       "      <td>0</td>\n",
       "      <td>0</td>\n",
       "      <td>0</td>\n",
       "      <td>0</td>\n",
       "      <td>0</td>\n",
       "      <td>0</td>\n",
       "      <td>...</td>\n",
       "      <td>0</td>\n",
       "      <td>0</td>\n",
       "      <td>0</td>\n",
       "      <td>0</td>\n",
       "      <td>0</td>\n",
       "      <td>0</td>\n",
       "      <td>37.4075</td>\n",
       "      <td>0.541429</td>\n",
       "      <td>0.00025</td>\n",
       "      <td>0.274</td>\n",
       "    </tr>\n",
       "    <tr>\n",
       "      <th>3</th>\n",
       "      <td>1</td>\n",
       "      <td>1-4</td>\n",
       "      <td>4</td>\n",
       "      <td>0</td>\n",
       "      <td>0</td>\n",
       "      <td>0</td>\n",
       "      <td>0</td>\n",
       "      <td>0</td>\n",
       "      <td>0</td>\n",
       "      <td>0</td>\n",
       "      <td>...</td>\n",
       "      <td>0</td>\n",
       "      <td>0</td>\n",
       "      <td>0</td>\n",
       "      <td>0</td>\n",
       "      <td>0</td>\n",
       "      <td>0</td>\n",
       "      <td>37.4075</td>\n",
       "      <td>0.541429</td>\n",
       "      <td>0.00025</td>\n",
       "      <td>0.274</td>\n",
       "    </tr>\n",
       "    <tr>\n",
       "      <th>4</th>\n",
       "      <td>1</td>\n",
       "      <td>1-5</td>\n",
       "      <td>5</td>\n",
       "      <td>0</td>\n",
       "      <td>0</td>\n",
       "      <td>0</td>\n",
       "      <td>0</td>\n",
       "      <td>0</td>\n",
       "      <td>0</td>\n",
       "      <td>0</td>\n",
       "      <td>...</td>\n",
       "      <td>0</td>\n",
       "      <td>0</td>\n",
       "      <td>0</td>\n",
       "      <td>0</td>\n",
       "      <td>0</td>\n",
       "      <td>0</td>\n",
       "      <td>37.4075</td>\n",
       "      <td>0.541429</td>\n",
       "      <td>0.00025</td>\n",
       "      <td>0.274</td>\n",
       "    </tr>\n",
       "  </tbody>\n",
       "</table>\n",
       "<p>5 rows × 27 columns</p>\n",
       "</div>"
      ],
      "text/plain": [
       "   HexagonNumber HexandMonth  Month  Under20  20to29  30to39  40to49  50to59  \\\n",
       "0              1         1-1      1        0       0       0       0       0   \n",
       "1              1         1-2      2        0       0       0       0       0   \n",
       "2              1         1-3      3        0       0       0       0       0   \n",
       "3              1         1-4      4        0       0       0       0       0   \n",
       "4              1         1-5      5        0       0       0       0       0   \n",
       "\n",
       "   60to69  70andabove      ...       MiscCals  OverdoseCalls  PropertyCalls  \\\n",
       "0       0           0      ...              0              0              0   \n",
       "1       0           0      ...              0              0              0   \n",
       "2       0           0      ...              0              0              0   \n",
       "3       0           0      ...              0              0              0   \n",
       "4       0           0      ...              0              0              0   \n",
       "\n",
       "   QOLCalls  TrafficCalls  ViolentCalls  AverageTemperature  AverageHumidity  \\\n",
       "0         5             5             0             37.4075         0.541429   \n",
       "1         0             0             0             37.4075         0.541429   \n",
       "2         0             0             0             37.4075         0.541429   \n",
       "3         0             0             0             37.4075         0.541429   \n",
       "4         0             0             0             37.4075         0.541429   \n",
       "\n",
       "   AveragePrecipitation  Unemployment  \n",
       "0               0.00025         0.274  \n",
       "1               0.00025         0.274  \n",
       "2               0.00025         0.274  \n",
       "3               0.00025         0.274  \n",
       "4               0.00025         0.274  \n",
       "\n",
       "[5 rows x 27 columns]"
      ]
     },
     "execution_count": 14,
     "metadata": {},
     "output_type": "execute_result"
    }
   ],
   "source": [
    "data.head()"
   ]
  },
  {
   "cell_type": "code",
   "execution_count": 15,
   "metadata": {
    "collapsed": false
   },
   "outputs": [
    {
     "name": "stdout",
     "output_type": "stream",
     "text": [
      "(9444, 24)\n",
      "(9444,)\n"
     ]
    }
   ],
   "source": [
    "features = data [[\n",
    "     'HexagonNumber', 'Month', 'Under20', '20to29', '30to39', '40to49',\n",
    "       '50to59', '60to69', '70andabove', 'Male',\n",
    "       'Female', 'MPDCalls', 'FEMSCalls', 'MedicalCalls', 'MiscCals',\n",
    "       'OverdoseCalls', 'PropertyCalls', 'QOLCalls', 'TrafficCalls',\n",
    "       'ViolentCalls', 'AverageTemperature', 'AverageHumidity',\n",
    "       'AveragePrecipitation', 'Unemployment'\n",
    "]]\n",
    "\n",
    "X = features\n",
    "\n",
    "y = data['NarcanAdministered']\n",
    "\n",
    "print(X.shape)\n",
    "print(y.shape)"
   ]
  },
  {
   "cell_type": "code",
   "execution_count": 16,
   "metadata": {
    "collapsed": true
   },
   "outputs": [],
   "source": [
    "#Drop the columns for HexandMonth and TotalNarcan.  HEXandMonth is not needed and TotalNarcan may cause bias because\n",
    "#the Narcan Administered already accounts for the TotalNarcan for the month. \n",
    "\n",
    "data = data.drop(['HexandMonth'], axis = 1)\n",
    "data = data.drop(['TotalNarcan'], axis = 1)\n",
    "\n"
   ]
  },
  {
   "cell_type": "code",
   "execution_count": 18,
   "metadata": {
    "collapsed": false
   },
   "outputs": [],
   "source": [
    "\n",
    "# split X and y into train and test datasets\n",
    "\n",
    "(X_train, X_test, y_train, y_test) = cv.train_test_split(X, y, test_size=.03)"
   ]
  },
  {
   "cell_type": "code",
   "execution_count": 19,
   "metadata": {
    "collapsed": false
   },
   "outputs": [
    {
     "data": {
      "text/plain": [
       "LogisticRegression(C=1.0, class_weight=None, dual=False, fit_intercept=True,\n",
       "          intercept_scaling=1, max_iter=100, multi_class='ovr', n_jobs=1,\n",
       "          penalty='l2', random_state=None, solver='liblinear', tol=0.0001,\n",
       "          verbose=0, warm_start=False)"
      ]
     },
     "execution_count": 19,
     "metadata": {},
     "output_type": "execute_result"
    }
   ],
   "source": [
    "# instantiate a logistic regression model, and fit with X and y\n",
    "model = LogisticRegression()\n",
    "model.fit(X_train, y_train)"
   ]
  },
  {
   "cell_type": "code",
   "execution_count": 20,
   "metadata": {
    "collapsed": false
   },
   "outputs": [
    {
     "data": {
      "text/plain": [
       "array([[  9.94289690e-01,   5.71030986e-03],\n",
       "       [  9.96229258e-01,   3.77074193e-03],\n",
       "       [  9.98014557e-01,   1.98544326e-03],\n",
       "       [  9.96859673e-01,   3.14032738e-03],\n",
       "       [  1.08320234e-02,   9.89167977e-01],\n",
       "       [  9.98440103e-01,   1.55989690e-03],\n",
       "       [  9.95703425e-01,   4.29657498e-03],\n",
       "       [  9.97907997e-01,   2.09200288e-03],\n",
       "       [  9.97524939e-01,   2.47506142e-03],\n",
       "       [  7.67413098e-03,   9.92325869e-01],\n",
       "       [  9.97679489e-01,   2.32051132e-03],\n",
       "       [  9.95206167e-01,   4.79383312e-03],\n",
       "       [  1.90903397e-02,   9.80909660e-01],\n",
       "       [  9.95939240e-01,   4.06076016e-03],\n",
       "       [  7.24018800e-03,   9.92759812e-01],\n",
       "       [  9.96763647e-01,   3.23635256e-03],\n",
       "       [  9.97199656e-01,   2.80034382e-03],\n",
       "       [  9.99297307e-01,   7.02693278e-04],\n",
       "       [  9.98780204e-01,   1.21979574e-03],\n",
       "       [  9.97612027e-01,   2.38797269e-03],\n",
       "       [  9.95617161e-01,   4.38283854e-03],\n",
       "       [  9.96132379e-01,   3.86762132e-03],\n",
       "       [  1.32585394e-05,   9.99986741e-01],\n",
       "       [  9.98618912e-01,   1.38108786e-03],\n",
       "       [  9.96027603e-01,   3.97239713e-03],\n",
       "       [  9.97323335e-01,   2.67666478e-03],\n",
       "       [  9.97124282e-01,   2.87571796e-03],\n",
       "       [  9.93662493e-01,   6.33750712e-03],\n",
       "       [  1.17785849e-02,   9.88221415e-01],\n",
       "       [  9.97531832e-01,   2.46816770e-03],\n",
       "       [  9.95386103e-01,   4.61389691e-03],\n",
       "       [  9.96907087e-01,   3.09291266e-03],\n",
       "       [  9.97909635e-01,   2.09036504e-03],\n",
       "       [  9.95939835e-01,   4.06016478e-03],\n",
       "       [  9.96871647e-01,   3.12835284e-03],\n",
       "       [  9.96385933e-01,   3.61406725e-03],\n",
       "       [  9.98656334e-01,   1.34366627e-03],\n",
       "       [  9.96205070e-01,   3.79492980e-03],\n",
       "       [  9.94650995e-01,   5.34900454e-03],\n",
       "       [  9.94080444e-01,   5.91955557e-03],\n",
       "       [  9.96921871e-01,   3.07812869e-03],\n",
       "       [  9.98054438e-01,   1.94556160e-03],\n",
       "       [  4.60502108e-03,   9.95394979e-01],\n",
       "       [  9.96966564e-01,   3.03343595e-03],\n",
       "       [  9.96126041e-01,   3.87395880e-03],\n",
       "       [  9.95788186e-01,   4.21181375e-03],\n",
       "       [  9.96952144e-01,   3.04785637e-03],\n",
       "       [  9.97606079e-01,   2.39392070e-03],\n",
       "       [  9.98095370e-01,   1.90463039e-03],\n",
       "       [  9.96217047e-01,   3.78295334e-03],\n",
       "       [  7.64561817e-03,   9.92354382e-01],\n",
       "       [  9.97693914e-01,   2.30608622e-03],\n",
       "       [  9.95841635e-01,   4.15836519e-03],\n",
       "       [  9.97371723e-01,   2.62827699e-03],\n",
       "       [  5.74754298e-03,   9.94252457e-01],\n",
       "       [  1.97776261e-02,   9.80222374e-01],\n",
       "       [  1.06630260e-11,   1.00000000e+00],\n",
       "       [  9.96937614e-01,   3.06238556e-03],\n",
       "       [  0.00000000e+00,   1.00000000e+00],\n",
       "       [  8.93294413e-03,   9.91067056e-01],\n",
       "       [  9.96909949e-01,   3.09005097e-03],\n",
       "       [  1.09430570e-02,   9.89056943e-01],\n",
       "       [  9.96830531e-01,   3.16946876e-03],\n",
       "       [  5.41590433e-03,   9.94584096e-01],\n",
       "       [  9.96605640e-01,   3.39435973e-03],\n",
       "       [  1.54137708e-02,   9.84586229e-01],\n",
       "       [  4.00405183e-01,   5.99594817e-01],\n",
       "       [  9.96017228e-01,   3.98277197e-03],\n",
       "       [  9.95439478e-01,   4.56052202e-03],\n",
       "       [  2.18285050e-04,   9.99781715e-01],\n",
       "       [  9.96886620e-01,   3.11337977e-03],\n",
       "       [  2.44787330e-02,   9.75521267e-01],\n",
       "       [  9.93676369e-01,   6.32363072e-03],\n",
       "       [  3.56198143e-05,   9.99964380e-01],\n",
       "       [  9.97450235e-01,   2.54976513e-03],\n",
       "       [  6.98416667e-03,   9.93015833e-01],\n",
       "       [  9.98974548e-01,   1.02545200e-03],\n",
       "       [  9.95751948e-01,   4.24805223e-03],\n",
       "       [  9.96536636e-01,   3.46336427e-03],\n",
       "       [  9.96978175e-01,   3.02182455e-03],\n",
       "       [  9.97026269e-01,   2.97373086e-03],\n",
       "       [  9.95320918e-01,   4.67908216e-03],\n",
       "       [  9.95133572e-01,   4.86642787e-03],\n",
       "       [  1.00436036e-02,   9.89956396e-01],\n",
       "       [  9.95304684e-01,   4.69531619e-03],\n",
       "       [  9.97124378e-01,   2.87562183e-03],\n",
       "       [  9.97064178e-01,   2.93582199e-03],\n",
       "       [  9.94729505e-01,   5.27049522e-03],\n",
       "       [  9.95663639e-01,   4.33636142e-03],\n",
       "       [  9.97961258e-01,   2.03874204e-03],\n",
       "       [  9.97879121e-01,   2.12087881e-03],\n",
       "       [  9.97733863e-01,   2.26613654e-03],\n",
       "       [  9.97166843e-01,   2.83315663e-03],\n",
       "       [  9.97661473e-01,   2.33852747e-03],\n",
       "       [  1.30200773e-02,   9.86979923e-01],\n",
       "       [  9.96045156e-01,   3.95484434e-03],\n",
       "       [  9.94715132e-01,   5.28486819e-03],\n",
       "       [  9.97535324e-01,   2.46467632e-03],\n",
       "       [  9.98951801e-01,   1.04819864e-03],\n",
       "       [  9.96562665e-01,   3.43733536e-03],\n",
       "       [  9.95713202e-01,   4.28679765e-03],\n",
       "       [  9.98584587e-01,   1.41541290e-03],\n",
       "       [  9.97372132e-01,   2.62786769e-03],\n",
       "       [  4.57940444e-03,   9.95420596e-01],\n",
       "       [  9.97207610e-01,   2.79239005e-03],\n",
       "       [  9.96902407e-01,   3.09759313e-03],\n",
       "       [  9.97163656e-01,   2.83634375e-03],\n",
       "       [  9.95729963e-01,   4.27003697e-03],\n",
       "       [  9.97040587e-01,   2.95941326e-03],\n",
       "       [  1.72221450e-07,   9.99999828e-01],\n",
       "       [  9.98412931e-01,   1.58706913e-03],\n",
       "       [  9.97425002e-01,   2.57499776e-03],\n",
       "       [  9.97930644e-01,   2.06935641e-03],\n",
       "       [  9.98090563e-01,   1.90943744e-03],\n",
       "       [  9.97542841e-01,   2.45715890e-03],\n",
       "       [  9.97329956e-01,   2.67004423e-03],\n",
       "       [  9.97086085e-01,   2.91391530e-03],\n",
       "       [  9.94867797e-01,   5.13220258e-03],\n",
       "       [  9.96672066e-01,   3.32793443e-03],\n",
       "       [  9.98068759e-01,   1.93124139e-03],\n",
       "       [  9.97667247e-01,   2.33275268e-03],\n",
       "       [  9.95710900e-01,   4.28910040e-03],\n",
       "       [  9.96449766e-01,   3.55023361e-03],\n",
       "       [  9.96138089e-01,   3.86191119e-03],\n",
       "       [  9.95182352e-01,   4.81764761e-03],\n",
       "       [  9.97084227e-01,   2.91577261e-03],\n",
       "       [  9.98535619e-01,   1.46438115e-03],\n",
       "       [  5.61094374e-07,   9.99999439e-01],\n",
       "       [  9.94133061e-01,   5.86693946e-03],\n",
       "       [  5.01954330e-03,   9.94980457e-01],\n",
       "       [  9.96846187e-01,   3.15381316e-03],\n",
       "       [  9.97020733e-01,   2.97926733e-03],\n",
       "       [  9.94135303e-01,   5.86469668e-03],\n",
       "       [  0.00000000e+00,   1.00000000e+00],\n",
       "       [  1.20652999e-06,   9.99998793e-01],\n",
       "       [  7.06958951e-03,   9.92930410e-01],\n",
       "       [  9.96474736e-01,   3.52526391e-03],\n",
       "       [  9.95153272e-01,   4.84672800e-03],\n",
       "       [  9.95075567e-01,   4.92443271e-03],\n",
       "       [  1.55939706e-11,   1.00000000e+00],\n",
       "       [  5.16605109e-03,   9.94833949e-01],\n",
       "       [  9.98423519e-01,   1.57648114e-03],\n",
       "       [  9.97270093e-01,   2.72990697e-03],\n",
       "       [  4.45987154e-07,   9.99999554e-01],\n",
       "       [  3.65480979e-11,   1.00000000e+00],\n",
       "       [  9.96562150e-01,   3.43785037e-03],\n",
       "       [  9.97356698e-01,   2.64330221e-03],\n",
       "       [  9.97081315e-01,   2.91868506e-03],\n",
       "       [  9.97522963e-01,   2.47703709e-03],\n",
       "       [  9.97977641e-01,   2.02235871e-03],\n",
       "       [  7.13455175e-03,   9.92865448e-01],\n",
       "       [  4.82271215e-07,   9.99999518e-01],\n",
       "       [  4.15667500e-13,   1.00000000e+00],\n",
       "       [  9.95847451e-01,   4.15254866e-03],\n",
       "       [  9.93975492e-01,   6.02450830e-03],\n",
       "       [  1.22223878e-02,   9.87777612e-01],\n",
       "       [  9.93971915e-01,   6.02808450e-03],\n",
       "       [  3.95021240e-03,   9.96049788e-01],\n",
       "       [  9.97641026e-01,   2.35897376e-03],\n",
       "       [  9.97219232e-01,   2.78076773e-03],\n",
       "       [  9.97180976e-01,   2.81902356e-03],\n",
       "       [  9.97046499e-01,   2.95350098e-03],\n",
       "       [  9.97315115e-01,   2.68488537e-03],\n",
       "       [  9.97508048e-01,   2.49195211e-03],\n",
       "       [  9.97290038e-01,   2.70996247e-03],\n",
       "       [  9.96655990e-01,   3.34400993e-03],\n",
       "       [  9.94933885e-01,   5.06611492e-03],\n",
       "       [  9.95775145e-01,   4.22485497e-03],\n",
       "       [  9.97156283e-01,   2.84371725e-03],\n",
       "       [  1.21336844e-02,   9.87866316e-01],\n",
       "       [  9.95821929e-01,   4.17807138e-03],\n",
       "       [  9.96897413e-01,   3.10258680e-03],\n",
       "       [  9.97053818e-01,   2.94618184e-03],\n",
       "       [  9.95654820e-01,   4.34518032e-03],\n",
       "       [  9.97365976e-01,   2.63402376e-03],\n",
       "       [  3.19048993e-07,   9.99999681e-01],\n",
       "       [  9.98039291e-01,   1.96070930e-03],\n",
       "       [  9.97151114e-01,   2.84888574e-03],\n",
       "       [  9.97683852e-01,   2.31614804e-03],\n",
       "       [  9.97564883e-01,   2.43511714e-03],\n",
       "       [  9.97212595e-01,   2.78740534e-03],\n",
       "       [  9.97156230e-01,   2.84377028e-03],\n",
       "       [  9.96432846e-01,   3.56715357e-03],\n",
       "       [  9.97915023e-01,   2.08497747e-03],\n",
       "       [  6.44868380e-07,   9.99999355e-01],\n",
       "       [  9.97752417e-01,   2.24758256e-03],\n",
       "       [  9.97552779e-01,   2.44722113e-03],\n",
       "       [  9.97758703e-01,   2.24129723e-03],\n",
       "       [  5.14681952e-03,   9.94853180e-01],\n",
       "       [  9.96034148e-01,   3.96585241e-03],\n",
       "       [  9.98345752e-01,   1.65424768e-03],\n",
       "       [  9.98573399e-01,   1.42660136e-03],\n",
       "       [  9.96111416e-01,   3.88858449e-03],\n",
       "       [  2.36033415e-13,   1.00000000e+00],\n",
       "       [  9.96550215e-01,   3.44978505e-03],\n",
       "       [  9.94767753e-01,   5.23224684e-03],\n",
       "       [  9.95145089e-01,   4.85491123e-03],\n",
       "       [  9.95779226e-01,   4.22077433e-03],\n",
       "       [  9.97126399e-01,   2.87360113e-03],\n",
       "       [  2.23319536e-02,   9.77668046e-01],\n",
       "       [  9.96369407e-01,   3.63059315e-03],\n",
       "       [  9.97413298e-01,   2.58670172e-03],\n",
       "       [  9.96830817e-01,   3.16918286e-03],\n",
       "       [  9.97737631e-01,   2.26236950e-03],\n",
       "       [  9.98763111e-01,   1.23688889e-03],\n",
       "       [  9.98479594e-01,   1.52040557e-03],\n",
       "       [  1.30093032e-02,   9.86990697e-01],\n",
       "       [  9.97333386e-01,   2.66661393e-03],\n",
       "       [  9.96106348e-01,   3.89365238e-03],\n",
       "       [  9.96972774e-01,   3.02722587e-03],\n",
       "       [  9.97639190e-01,   2.36081006e-03],\n",
       "       [  9.97367807e-01,   2.63219302e-03],\n",
       "       [  9.58736918e-03,   9.90412631e-01],\n",
       "       [  9.97644608e-01,   2.35539248e-03],\n",
       "       [  9.97374226e-01,   2.62577382e-03],\n",
       "       [  8.02902333e-03,   9.91970977e-01],\n",
       "       [  9.97020289e-01,   2.97971089e-03],\n",
       "       [  9.97486650e-01,   2.51334978e-03],\n",
       "       [  9.94299966e-01,   5.70003395e-03],\n",
       "       [  5.88043518e-07,   9.99999412e-01],\n",
       "       [  9.97886682e-01,   2.11331841e-03],\n",
       "       [  9.97816294e-01,   2.18370615e-03],\n",
       "       [  9.96141733e-01,   3.85826724e-03],\n",
       "       [  9.97554056e-01,   2.44594395e-03],\n",
       "       [  9.97530933e-01,   2.46906743e-03],\n",
       "       [  2.89379631e-11,   1.00000000e+00],\n",
       "       [  9.97856400e-01,   2.14359978e-03],\n",
       "       [  9.97927278e-01,   2.07272151e-03],\n",
       "       [  9.97006774e-01,   2.99322555e-03],\n",
       "       [  9.96319095e-01,   3.68090533e-03],\n",
       "       [  9.96151575e-01,   3.84842525e-03],\n",
       "       [  9.98278643e-01,   1.72135682e-03],\n",
       "       [  9.97484378e-01,   2.51562211e-03],\n",
       "       [  9.97126802e-01,   2.87319842e-03],\n",
       "       [  1.09587650e-07,   9.99999890e-01],\n",
       "       [  9.97367912e-01,   2.63208843e-03],\n",
       "       [  2.64050154e-02,   9.73594985e-01],\n",
       "       [  9.96160725e-01,   3.83927457e-03],\n",
       "       [  9.96926918e-01,   3.07308233e-03],\n",
       "       [  9.97751855e-01,   2.24814462e-03],\n",
       "       [  9.96598102e-01,   3.40189838e-03],\n",
       "       [  8.55809294e-03,   9.91441907e-01],\n",
       "       [  9.95318677e-01,   4.68132293e-03],\n",
       "       [  9.97906123e-01,   2.09387702e-03],\n",
       "       [  9.97250938e-01,   2.74906220e-03],\n",
       "       [  9.97299839e-01,   2.70016086e-03],\n",
       "       [  9.95762470e-01,   4.23752966e-03],\n",
       "       [  9.97832549e-01,   2.16745094e-03],\n",
       "       [  9.96580686e-01,   3.41931370e-03],\n",
       "       [  9.95727036e-01,   4.27296382e-03],\n",
       "       [  9.97450846e-01,   2.54915417e-03],\n",
       "       [  9.95154345e-01,   4.84565478e-03],\n",
       "       [  4.37072134e-01,   5.62927866e-01],\n",
       "       [  9.97146377e-01,   2.85362338e-03],\n",
       "       [  6.25081620e-03,   9.93749184e-01],\n",
       "       [  9.94116498e-01,   5.88350243e-03],\n",
       "       [  9.94916536e-01,   5.08346443e-03],\n",
       "       [  9.96698985e-01,   3.30101534e-03],\n",
       "       [  9.98466759e-01,   1.53324090e-03],\n",
       "       [  9.97253267e-01,   2.74673302e-03],\n",
       "       [  7.47157891e-12,   1.00000000e+00],\n",
       "       [  2.84347814e-03,   9.97156522e-01],\n",
       "       [  3.09043737e-02,   9.69095626e-01],\n",
       "       [  1.16415065e-02,   9.88358493e-01],\n",
       "       [  9.94670285e-01,   5.32971549e-03],\n",
       "       [  9.97392547e-01,   2.60745292e-03],\n",
       "       [  9.97425443e-01,   2.57455655e-03],\n",
       "       [  1.34598808e-07,   9.99999865e-01],\n",
       "       [  9.98065629e-01,   1.93437141e-03],\n",
       "       [  9.95221260e-01,   4.77873953e-03],\n",
       "       [  1.61764268e-02,   9.83823573e-01],\n",
       "       [  7.84117399e-03,   9.92158826e-01],\n",
       "       [  9.97027358e-01,   2.97264188e-03],\n",
       "       [  9.93742388e-01,   6.25761166e-03],\n",
       "       [  9.97289968e-01,   2.71003233e-03],\n",
       "       [  9.97678152e-01,   2.32184804e-03],\n",
       "       [  9.95242693e-01,   4.75730734e-03],\n",
       "       [  9.96988982e-01,   3.01101757e-03],\n",
       "       [  9.98004500e-01,   1.99550026e-03],\n",
       "       [  9.97819624e-01,   2.18037580e-03],\n",
       "       [  1.86566034e-02,   9.81343397e-01],\n",
       "       [  9.58385561e-03,   9.90416144e-01],\n",
       "       [  9.97697924e-01,   2.30207646e-03],\n",
       "       [  9.97842710e-01,   2.15728968e-03]])"
      ]
     },
     "execution_count": 20,
     "metadata": {},
     "output_type": "execute_result"
    }
   ],
   "source": [
    "#Returns the probability of the sample for each class in the model\n",
    "model.predict_proba(X_test)"
   ]
  },
  {
   "cell_type": "code",
   "execution_count": 21,
   "metadata": {
    "collapsed": false
   },
   "outputs": [
    {
     "data": {
      "text/plain": [
       "(9160, 2)"
      ]
     },
     "execution_count": 21,
     "metadata": {},
     "output_type": "execute_result"
    }
   ],
   "source": [
    "model.predict_proba(X_train).shape"
   ]
  },
  {
   "cell_type": "code",
   "execution_count": 22,
   "metadata": {
    "collapsed": false
   },
   "outputs": [
    {
     "data": {
      "text/plain": [
       "1.0"
      ]
     },
     "execution_count": 22,
     "metadata": {},
     "output_type": "execute_result"
    }
   ],
   "source": [
    "#mean accuracy on the given test data and labels\n",
    "model.score(X_test, y_test)"
   ]
  },
  {
   "cell_type": "code",
   "execution_count": 23,
   "metadata": {
    "collapsed": false
   },
   "outputs": [
    {
     "data": {
      "text/plain": [
       "array([-6.0047795 , -5.30655822,  4.71765514, ..., -5.37438289,\n",
       "       -6.71169744, -6.05475435])"
      ]
     },
     "execution_count": 23,
     "metadata": {},
     "output_type": "execute_result"
    }
   ],
   "source": [
    "#Confidence scores per (sample, class) combination.\n",
    "model.decision_function(X_train)"
   ]
  },
  {
   "cell_type": "code",
   "execution_count": 24,
   "metadata": {
    "collapsed": false
   },
   "outputs": [
    {
     "data": {
      "text/plain": [
       "array([ 0.99968244,  0.99777637,  0.99872895])"
      ]
     },
     "execution_count": 24,
     "metadata": {},
     "output_type": "execute_result"
    }
   ],
   "source": [
    "#For each pair of train and test set, a prediction score\n",
    "cross_val_score(model, X, y)"
   ]
  },
  {
   "cell_type": "code",
   "execution_count": 25,
   "metadata": {
    "collapsed": false
   },
   "outputs": [
    {
     "data": {
      "text/plain": [
       "{'C': 2.0235896477251556}"
      ]
     },
     "execution_count": 25,
     "metadata": {},
     "output_type": "execute_result"
    }
   ],
   "source": [
    "grid = gs(model, {'C': np.logspace(-5, 5, 50)})\n",
    "grid.fit(X_train, y_train)\n",
    "grid.best_params_"
   ]
  },
  {
   "cell_type": "code",
   "execution_count": 26,
   "metadata": {
    "collapsed": false
   },
   "outputs": [
    {
     "data": {
      "text/plain": [
       "array([ 0.99968244,  0.99777637,  0.99968224])"
      ]
     },
     "execution_count": 26,
     "metadata": {},
     "output_type": "execute_result"
    }
   ],
   "source": [
    "cv.cross_val_score(grid.best_estimator_, X, y)"
   ]
  },
  {
   "cell_type": "code",
   "execution_count": 27,
   "metadata": {
    "collapsed": false
   },
   "outputs": [
    {
     "data": {
      "text/plain": [
       "array([0, 0, 0, 0, 1, 0, 0, 0, 0, 1, 0, 0, 1, 0, 1, 0, 0, 0, 0, 0, 0, 0, 1,\n",
       "       0, 0, 0, 0, 0, 1, 0, 0, 0, 0, 0, 0, 0, 0, 0, 0, 0, 0, 0, 1, 0, 0, 0,\n",
       "       0, 0, 0, 0, 1, 0, 0, 0, 1, 1, 1, 0, 1, 1, 0, 1, 0, 1, 0, 1, 1, 0, 0,\n",
       "       1, 0, 1, 0, 1, 0, 1, 0, 0, 0, 0, 0, 0, 0, 1, 0, 0, 0, 0, 0, 0, 0, 0,\n",
       "       0, 0, 1, 0, 0, 0, 0, 0, 0, 0, 0, 1, 0, 0, 0, 0, 0, 1, 0, 0, 0, 0, 0,\n",
       "       0, 0, 0, 0, 0, 0, 0, 0, 0, 0, 0, 0, 1, 0, 1, 0, 0, 0, 1, 1, 1, 0, 0,\n",
       "       0, 1, 1, 0, 0, 1, 1, 0, 0, 0, 0, 0, 1, 1, 1, 0, 0, 1, 0, 1, 0, 0, 0,\n",
       "       0, 0, 0, 0, 0, 0, 0, 0, 1, 0, 0, 0, 0, 0, 1, 0, 0, 0, 0, 0, 0, 0, 0,\n",
       "       1, 0, 0, 0, 1, 0, 0, 0, 0, 1, 0, 0, 0, 0, 0, 1, 0, 0, 0, 0, 0, 0, 1,\n",
       "       0, 0, 0, 0, 0, 1, 0, 0, 1, 0, 0, 0, 1, 0, 0, 0, 0, 0, 1, 0, 0, 0, 0,\n",
       "       0, 0, 0, 0, 1, 0, 1, 0, 0, 0, 0, 1, 0, 0, 0, 0, 0, 0, 0, 0, 0, 0, 1,\n",
       "       0, 1, 0, 0, 0, 0, 0, 1, 1, 1, 1, 0, 0, 0, 1, 0, 0, 1, 1, 0, 0, 0, 0,\n",
       "       0, 0, 0, 0, 1, 1, 0, 0])"
      ]
     },
     "execution_count": 27,
     "metadata": {},
     "output_type": "execute_result"
    }
   ],
   "source": [
    "model.predict(X_test)"
   ]
  },
  {
   "cell_type": "code",
   "execution_count": 29,
   "metadata": {
    "collapsed": false
   },
   "outputs": [
    {
     "name": "stdout",
     "output_type": "stream",
     "text": [
      "Precision:  1.0\n",
      "Recall:  1.0\n",
      "Accuracy 1.0\n",
      "F1 1.0\n"
     ]
    }
   ],
   "source": [
    "y_pred = model.predict(X_test)\n",
    "print ('Precision: ', metrics.precision_score(y_test, y_pred))\n",
    "print ('Recall: ', metrics.recall_score(y_test, y_pred, average='binary'))\n",
    "print ('Accuracy', metrics.accuracy_score(y_test, y_pred))\n",
    "print ('F1', metrics.f1_score(y_test, y_pred, average='binary'))"
   ]
  },
  {
   "cell_type": "code",
   "execution_count": 30,
   "metadata": {
    "collapsed": false
   },
   "outputs": [
    {
     "data": {
      "text/plain": [
       "RandomForestClassifier(bootstrap=True, class_weight=None, criterion='gini',\n",
       "            max_depth=None, max_features='auto', max_leaf_nodes=None,\n",
       "            min_impurity_split=1e-07, min_samples_leaf=1,\n",
       "            min_samples_split=2, min_weight_fraction_leaf=0.0,\n",
       "            n_estimators=100, n_jobs=1, oob_score=False, random_state=None,\n",
       "            verbose=0, warm_start=False)"
      ]
     },
     "execution_count": 30,
     "metadata": {},
     "output_type": "execute_result"
    }
   ],
   "source": [
    "from sklearn.ensemble import RandomForestClassifier\n",
    "\n",
    "rfc = RandomForestClassifier(n_estimators=100)\n",
    "rfc.fit(X_train, y_train)"
   ]
  },
  {
   "cell_type": "code",
   "execution_count": 31,
   "metadata": {
    "collapsed": false
   },
   "outputs": [
    {
     "name": "stdout",
     "output_type": "stream",
     "text": [
      "Precision:  1.0\n",
      "Recall:  1.0\n",
      "Accuracy 1.0\n",
      "F1 1.0\n"
     ]
    }
   ],
   "source": [
    "yrfc_pred = rfc.predict(X_test)\n",
    "\n",
    "print ('Precision: ', metrics.precision_score(y_test, y_pred))\n",
    "print ('Recall: ', metrics.recall_score(y_test, y_pred, average='binary'))\n",
    "print ('Accuracy', metrics.accuracy_score(y_test, y_pred))\n",
    "print ('F1', metrics.f1_score(y_test, y_pred, average='binary'))"
   ]
  },
  {
   "cell_type": "code",
   "execution_count": null,
   "metadata": {
    "collapsed": true
   },
   "outputs": [],
   "source": []
  },
  {
   "cell_type": "code",
   "execution_count": null,
   "metadata": {
    "collapsed": true
   },
   "outputs": [],
   "source": []
  }
 ],
 "metadata": {
  "kernelspec": {
   "display_name": "Python 3",
   "language": "python",
   "name": "python3"
  },
  "language_info": {
   "codemirror_mode": {
    "name": "ipython",
    "version": 3
   },
   "file_extension": ".py",
   "mimetype": "text/x-python",
   "name": "python",
   "nbconvert_exporter": "python",
   "pygments_lexer": "ipython3",
   "version": "3.6.0"
  }
 },
 "nbformat": 4,
 "nbformat_minor": 2
}
