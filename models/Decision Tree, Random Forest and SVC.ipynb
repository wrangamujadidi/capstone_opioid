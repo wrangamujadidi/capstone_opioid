{
 "cells": [
  {
   "cell_type": "code",
   "execution_count": 1,
   "metadata": {
    "collapsed": true
   },
   "outputs": [],
   "source": [
    "%matplotlib inline\n",
    "%matplotlib notebook"
   ]
  },
  {
   "cell_type": "code",
   "execution_count": 2,
   "metadata": {
    "collapsed": true
   },
   "outputs": [],
   "source": [
    "import os \n",
    "import pickle\n",
    "\n",
    "import pandas as pd\n",
    "import numpy as np\n",
    "import matplotlib.pyplot as plt"
   ]
  },
  {
   "cell_type": "code",
   "execution_count": 3,
   "metadata": {
    "collapsed": false
   },
   "outputs": [
    {
     "data": {
      "text/plain": [
       "'/Users/wrangamujadidi/Desktop/Capstone/capstone_opioid/Data/finaldataframecopy_wWeather.csv'"
      ]
     },
     "execution_count": 3,
     "metadata": {},
     "output_type": "execute_result"
    }
   ],
   "source": [
    "PATH = os.path.abspath(os.path.join(os.path.dirname(\".\"), \"Data\"))\n",
    "FINAL_DATA = os.path.join(PATH, \"finaldataframecopy_wWeather.csv\")\n",
    "\n",
    "FINAL_DATA"
   ]
  },
  {
   "cell_type": "code",
   "execution_count": 4,
   "metadata": {
    "collapsed": true
   },
   "outputs": [],
   "source": [
    "data = pd.read_csv(FINAL_DATA)"
   ]
  },
  {
   "cell_type": "code",
   "execution_count": 5,
   "metadata": {
    "collapsed": false
   },
   "outputs": [
    {
     "data": {
      "text/html": [
       "<div>\n",
       "<table border=\"1\" class=\"dataframe\">\n",
       "  <thead>\n",
       "    <tr style=\"text-align: right;\">\n",
       "      <th></th>\n",
       "      <th>HexagonNumber</th>\n",
       "      <th>HexandMonth</th>\n",
       "      <th>Month</th>\n",
       "      <th>Under20</th>\n",
       "      <th>20to29</th>\n",
       "      <th>30to39</th>\n",
       "      <th>40to49</th>\n",
       "      <th>50to59</th>\n",
       "      <th>60to69</th>\n",
       "      <th>70andabove</th>\n",
       "      <th>...</th>\n",
       "      <th>MiscCals</th>\n",
       "      <th>OverdoseCalls</th>\n",
       "      <th>PropertyCalls</th>\n",
       "      <th>QOLCalls</th>\n",
       "      <th>TrafficCalls</th>\n",
       "      <th>ViolentCalls</th>\n",
       "      <th>AverageTemperature</th>\n",
       "      <th>AverageHumidity</th>\n",
       "      <th>AveragePrecipitation</th>\n",
       "      <th>Unemployment</th>\n",
       "    </tr>\n",
       "  </thead>\n",
       "  <tbody>\n",
       "    <tr>\n",
       "      <th>0</th>\n",
       "      <td>1</td>\n",
       "      <td>1-1</td>\n",
       "      <td>1</td>\n",
       "      <td>0</td>\n",
       "      <td>0</td>\n",
       "      <td>0</td>\n",
       "      <td>0</td>\n",
       "      <td>0</td>\n",
       "      <td>0</td>\n",
       "      <td>0</td>\n",
       "      <td>...</td>\n",
       "      <td>0</td>\n",
       "      <td>0</td>\n",
       "      <td>0</td>\n",
       "      <td>5</td>\n",
       "      <td>5</td>\n",
       "      <td>0</td>\n",
       "      <td>37.4075</td>\n",
       "      <td>0.541429</td>\n",
       "      <td>0.00025</td>\n",
       "      <td>0.274</td>\n",
       "    </tr>\n",
       "    <tr>\n",
       "      <th>1</th>\n",
       "      <td>1</td>\n",
       "      <td>1-2</td>\n",
       "      <td>2</td>\n",
       "      <td>0</td>\n",
       "      <td>0</td>\n",
       "      <td>0</td>\n",
       "      <td>0</td>\n",
       "      <td>0</td>\n",
       "      <td>0</td>\n",
       "      <td>0</td>\n",
       "      <td>...</td>\n",
       "      <td>0</td>\n",
       "      <td>0</td>\n",
       "      <td>0</td>\n",
       "      <td>0</td>\n",
       "      <td>0</td>\n",
       "      <td>0</td>\n",
       "      <td>37.4075</td>\n",
       "      <td>0.541429</td>\n",
       "      <td>0.00025</td>\n",
       "      <td>0.274</td>\n",
       "    </tr>\n",
       "    <tr>\n",
       "      <th>2</th>\n",
       "      <td>1</td>\n",
       "      <td>1-3</td>\n",
       "      <td>3</td>\n",
       "      <td>0</td>\n",
       "      <td>0</td>\n",
       "      <td>0</td>\n",
       "      <td>0</td>\n",
       "      <td>0</td>\n",
       "      <td>0</td>\n",
       "      <td>0</td>\n",
       "      <td>...</td>\n",
       "      <td>0</td>\n",
       "      <td>0</td>\n",
       "      <td>0</td>\n",
       "      <td>0</td>\n",
       "      <td>0</td>\n",
       "      <td>0</td>\n",
       "      <td>37.4075</td>\n",
       "      <td>0.541429</td>\n",
       "      <td>0.00025</td>\n",
       "      <td>0.274</td>\n",
       "    </tr>\n",
       "    <tr>\n",
       "      <th>3</th>\n",
       "      <td>1</td>\n",
       "      <td>1-4</td>\n",
       "      <td>4</td>\n",
       "      <td>0</td>\n",
       "      <td>0</td>\n",
       "      <td>0</td>\n",
       "      <td>0</td>\n",
       "      <td>0</td>\n",
       "      <td>0</td>\n",
       "      <td>0</td>\n",
       "      <td>...</td>\n",
       "      <td>0</td>\n",
       "      <td>0</td>\n",
       "      <td>0</td>\n",
       "      <td>0</td>\n",
       "      <td>0</td>\n",
       "      <td>0</td>\n",
       "      <td>37.4075</td>\n",
       "      <td>0.541429</td>\n",
       "      <td>0.00025</td>\n",
       "      <td>0.274</td>\n",
       "    </tr>\n",
       "    <tr>\n",
       "      <th>4</th>\n",
       "      <td>1</td>\n",
       "      <td>1-5</td>\n",
       "      <td>5</td>\n",
       "      <td>0</td>\n",
       "      <td>0</td>\n",
       "      <td>0</td>\n",
       "      <td>0</td>\n",
       "      <td>0</td>\n",
       "      <td>0</td>\n",
       "      <td>0</td>\n",
       "      <td>...</td>\n",
       "      <td>0</td>\n",
       "      <td>0</td>\n",
       "      <td>0</td>\n",
       "      <td>0</td>\n",
       "      <td>0</td>\n",
       "      <td>0</td>\n",
       "      <td>37.4075</td>\n",
       "      <td>0.541429</td>\n",
       "      <td>0.00025</td>\n",
       "      <td>0.274</td>\n",
       "    </tr>\n",
       "  </tbody>\n",
       "</table>\n",
       "<p>5 rows × 27 columns</p>\n",
       "</div>"
      ],
      "text/plain": [
       "   HexagonNumber HexandMonth  Month  Under20  20to29  30to39  40to49  50to59  \\\n",
       "0              1         1-1      1        0       0       0       0       0   \n",
       "1              1         1-2      2        0       0       0       0       0   \n",
       "2              1         1-3      3        0       0       0       0       0   \n",
       "3              1         1-4      4        0       0       0       0       0   \n",
       "4              1         1-5      5        0       0       0       0       0   \n",
       "\n",
       "   60to69  70andabove      ...       MiscCals  OverdoseCalls  PropertyCalls  \\\n",
       "0       0           0      ...              0              0              0   \n",
       "1       0           0      ...              0              0              0   \n",
       "2       0           0      ...              0              0              0   \n",
       "3       0           0      ...              0              0              0   \n",
       "4       0           0      ...              0              0              0   \n",
       "\n",
       "   QOLCalls  TrafficCalls  ViolentCalls  AverageTemperature  AverageHumidity  \\\n",
       "0         5             5             0             37.4075         0.541429   \n",
       "1         0             0             0             37.4075         0.541429   \n",
       "2         0             0             0             37.4075         0.541429   \n",
       "3         0             0             0             37.4075         0.541429   \n",
       "4         0             0             0             37.4075         0.541429   \n",
       "\n",
       "   AveragePrecipitation  Unemployment  \n",
       "0               0.00025         0.274  \n",
       "1               0.00025         0.274  \n",
       "2               0.00025         0.274  \n",
       "3               0.00025         0.274  \n",
       "4               0.00025         0.274  \n",
       "\n",
       "[5 rows x 27 columns]"
      ]
     },
     "execution_count": 5,
     "metadata": {},
     "output_type": "execute_result"
    }
   ],
   "source": [
    "data.head()"
   ]
  },
  {
   "cell_type": "code",
   "execution_count": 6,
   "metadata": {
    "collapsed": true
   },
   "outputs": [],
   "source": [
    "#Drop the columns for HexandMonth and TotalNarcan.  HEXandMonth is not needed and TotalNarcan may cause bias because\n",
    "#the Narcan Administered already accounts for the TotalNarcan for the month. \n",
    "\n",
    "data = data.drop(['HexandMonth'], axis=1)\n",
    "data = data.drop(['TotalNarcan'], axis=1)\n"
   ]
  },
  {
   "cell_type": "code",
   "execution_count": 7,
   "metadata": {
    "collapsed": false
   },
   "outputs": [
    {
     "data": {
      "text/plain": [
       "Index(['HexagonNumber', 'Month', 'Under20', '20to29', '30to39', '40to49',\n",
       "       '50to59', '60to69', '70andabove', 'NarcanAdministered', 'Male',\n",
       "       'Female', 'MPDCalls', 'FEMSCalls', 'MedicalCalls', 'MiscCals',\n",
       "       'OverdoseCalls', 'PropertyCalls', 'QOLCalls', 'TrafficCalls',\n",
       "       'ViolentCalls', 'AverageTemperature', 'AverageHumidity',\n",
       "       'AveragePrecipitation', 'Unemployment'],\n",
       "      dtype='object')"
      ]
     },
     "execution_count": 7,
     "metadata": {},
     "output_type": "execute_result"
    }
   ],
   "source": [
    "data.columns"
   ]
  },
  {
   "cell_type": "code",
   "execution_count": 8,
   "metadata": {
    "collapsed": false
   },
   "outputs": [
    {
     "name": "stdout",
     "output_type": "stream",
     "text": [
      "(9444, 24)\n",
      "(9444,)\n"
     ]
    }
   ],
   "source": [
    "from sklearn.model_selection import train_test_split as tts \n",
    "\n",
    "features = data [[\n",
    "    'HexagonNumber', 'Month', 'Under20', '20to29', '30to39', '40to49',\n",
    "       '50to59', '60to69', '70andabove', 'Male',\n",
    "       'Female', 'MPDCalls', 'FEMSCalls', 'MedicalCalls', 'MiscCals',\n",
    "       'OverdoseCalls', 'PropertyCalls', 'QOLCalls', 'TrafficCalls',\n",
    "       'ViolentCalls','AverageTemperature','AverageHumidity','AveragePrecipitation','Unemployment'\n",
    "]]\n",
    "\n",
    "X = features\n",
    "\n",
    "y = data['NarcanAdministered']\n",
    "\n",
    "print(X.shape)\n",
    "print(y.shape)"
   ]
  },
  {
   "cell_type": "code",
   "execution_count": 9,
   "metadata": {
    "collapsed": true
   },
   "outputs": [],
   "source": [
    "X_train, X_test, y_train, y_test = tts(X, y, test_size=0.2)"
   ]
  },
  {
   "cell_type": "code",
   "execution_count": 10,
   "metadata": {
    "collapsed": true
   },
   "outputs": [],
   "source": [
    "from sklearn.metrics import classification_report"
   ]
  },
  {
   "cell_type": "code",
   "execution_count": 11,
   "metadata": {
    "collapsed": false
   },
   "outputs": [
    {
     "name": "stdout",
     "output_type": "stream",
     "text": [
      "             precision    recall  f1-score   support\n",
      "\n",
      "          0       1.00      1.00      1.00      1550\n",
      "          1       1.00      1.00      1.00       339\n",
      "\n",
      "avg / total       1.00      1.00      1.00      1889\n",
      "\n"
     ]
    }
   ],
   "source": [
    "# Import the model form \n",
    "from sklearn.tree import DecisionTreeClassifier \n",
    "\n",
    "model = DecisionTreeClassifier() \n",
    "model.fit(X_test, y_test)\n",
    "\n",
    "y_pred = model.predict(X_test)\n",
    "print(classification_report(y_test, y_pred))"
   ]
  },
  {
   "cell_type": "code",
   "execution_count": 12,
   "metadata": {
    "collapsed": false
   },
   "outputs": [
    {
     "name": "stdout",
     "output_type": "stream",
     "text": [
      "             precision    recall  f1-score   support\n",
      "\n",
      "          0       1.00      1.00      1.00      1550\n",
      "          1       1.00      1.00      1.00       339\n",
      "\n",
      "avg / total       1.00      1.00      1.00      1889\n",
      "\n"
     ]
    }
   ],
   "source": [
    "model = DecisionTreeClassifier(max_depth=5) \n",
    "model.fit(X_test, y_test)\n",
    "\n",
    "y_pred = model.predict(X_test)\n",
    "print(classification_report(y_test, y_pred))"
   ]
  },
  {
   "cell_type": "markdown",
   "metadata": {},
   "source": [
    "# Random Forest "
   ]
  },
  {
   "cell_type": "code",
   "execution_count": 13,
   "metadata": {
    "collapsed": true
   },
   "outputs": [],
   "source": [
    "from sklearn.ensemble import RandomForestClassifier"
   ]
  },
  {
   "cell_type": "code",
   "execution_count": 14,
   "metadata": {
    "collapsed": true
   },
   "outputs": [],
   "source": [
    "# We'll select 50 trees and opt for 'out-of-bag' samples to estimate the generalization error.\n",
    "rf = RandomForestClassifier(n_estimators=50, oob_score=True)"
   ]
  },
  {
   "cell_type": "code",
   "execution_count": 15,
   "metadata": {
    "collapsed": false
   },
   "outputs": [
    {
     "data": {
      "text/plain": [
       "RandomForestClassifier(bootstrap=True, class_weight=None, criterion='gini',\n",
       "            max_depth=None, max_features='auto', max_leaf_nodes=None,\n",
       "            min_impurity_split=1e-07, min_samples_leaf=1,\n",
       "            min_samples_split=2, min_weight_fraction_leaf=0.0,\n",
       "            n_estimators=50, n_jobs=1, oob_score=True, random_state=None,\n",
       "            verbose=0, warm_start=False)"
      ]
     },
     "execution_count": 15,
     "metadata": {},
     "output_type": "execute_result"
    }
   ],
   "source": [
    "# Next split up the data with the 'train test split' method in the Cross Validation module\n",
    "X_train, X_test, y_train, y_test = tts(X,y, test_size=0.2)\n",
    "\n",
    "# ...and then run the 'fit' method to build a forest of trees\n",
    "rf.fit(X_train, y_train)"
   ]
  },
  {
   "cell_type": "code",
   "execution_count": 16,
   "metadata": {
    "collapsed": false
   },
   "outputs": [
    {
     "data": {
      "text/plain": [
       "0.99947061937533088"
      ]
     },
     "execution_count": 16,
     "metadata": {},
     "output_type": "execute_result"
    }
   ],
   "source": [
    "rf.score(X_test, y_test)"
   ]
  },
  {
   "cell_type": "code",
   "execution_count": 18,
   "metadata": {
    "collapsed": false
   },
   "outputs": [
    {
     "name": "stdout",
     "output_type": "stream",
     "text": [
      "                                                                                                                                                                                                                                                                                                                                                                                                                                                                                                                                                                                                                                                                                                                                                                                                                                                                                                                                                                                                                                                                                                                                                                                                                                                                                                                                                                                                                                                                                                                                                                                                                                                                                                                                                                                                                                                                                                                                                                   precision    recall  f1-score   support\n",
      "\n",
      "                                                                                                                                                                                                                                                                                                                                                                                                                                                                                                                                                                                                                                                                                                                                                                                                                                                                                                                                                                                                                                                                                                                                                                                                                                                                                                                                                                                                                                                                                                                                                                                                                                                                                                                                                                                                                                                                                                                                               NarcanAdministered       1.00      1.00      1.00      1555\n",
      "                                                                                                                                                                                                                                                                                                                                                                                                                                                                                                                                                                                                                                                                                                                                                                                                                                                                                                                                                                                                                                                                                                                                                                                                                                                                                                                                                                                                                                                                                                                                                                                                                                                                                                                                                                                                                                                                                                                                               [1 0 0 ..., 0 1 1]       1.00      1.00      1.00       334\n",
      "\n",
      "                                                                                                                                                                                                                                                                                                                                                                                                                                                                                                                                                                                                                                                                                                                                                                                                                                                                                                                                                                                                                                                                                                                                                                                                                                                                                                                                                                                                                                                                                                                                                                                                                                                                                                                                                                                                                                                                                                                                                      avg / total       1.00      1.00      1.00      1889\n",
      "\n"
     ]
    }
   ],
   "source": [
    "expected   = y_test\n",
    "predicted  = rf.predict(X_test)\n",
    "classificationReport = classification_report(expected, predicted, target_names=[\"NarcanAdministered\",y_pred])\n",
    "print(classificationReport)"
   ]
  },
  {
   "cell_type": "markdown",
   "metadata": {},
   "source": [
    "# SVC"
   ]
  },
  {
   "cell_type": "code",
   "execution_count": 19,
   "metadata": {
    "collapsed": false
   },
   "outputs": [
    {
     "name": "stdout",
     "output_type": "stream",
     "text": [
      "             precision    recall  f1-score   support\n",
      "\n",
      "          0       0.97      1.00      0.99      1555\n",
      "          1       1.00      0.88      0.93       334\n",
      "\n",
      "avg / total       0.98      0.98      0.98      1889\n",
      "\n"
     ]
    }
   ],
   "source": [
    "from sklearn.svm import SVC\n",
    "\n",
    "model = SVC() \n",
    "model.fit(X_test, y_test)\n",
    "\n",
    "y_pred = model.predict(X_test)\n",
    "print(classification_report(y_test, y_pred))"
   ]
  },
  {
   "cell_type": "code",
   "execution_count": null,
   "metadata": {
    "collapsed": true
   },
   "outputs": [],
   "source": []
  }
 ],
 "metadata": {
  "kernelspec": {
   "display_name": "Python 3",
   "language": "python",
   "name": "python3"
  },
  "language_info": {
   "codemirror_mode": {
    "name": "ipython",
    "version": 3
   },
   "file_extension": ".py",
   "mimetype": "text/x-python",
   "name": "python",
   "nbconvert_exporter": "python",
   "pygments_lexer": "ipython3",
   "version": "3.6.0"
  }
 },
 "nbformat": 4,
 "nbformat_minor": 2
}
